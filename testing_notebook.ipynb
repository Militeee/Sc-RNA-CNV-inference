{
 "cells": [
  {
   "cell_type": "code",
   "execution_count": 1,
   "metadata": {
    "collapsed": true,
    "pycharm": {
     "is_executing": false
    }
   },
   "outputs": [
    {
     "name": "stderr",
     "text": [
      "\n",
      "Bad key \"text.kerning_factor\" on line 4 in\n",
      "/Users/salvatore/miniconda3/envs/hmobster/lib/python3.7/site-packages/matplotlib/mpl-data/stylelib/_classic_test_patch.mplstyle.\n",
      "You probably need to get an updated matplotlibrc file from\n",
      "https://github.com/matplotlib/matplotlib/blob/v3.1.3/matplotlibrc.template\n",
      "or from the matplotlib source distribution\n"
     ],
     "output_type": "stream"
    }
   ],
   "source": [
    "import torch\n",
    "import pyro\n",
    "from pyro.optim import Adam, ClippedAdam\n",
    "import congas as cg\n",
    "from congas.models import LatentCategorical\n",
    "from pyro.infer import TraceMeanField_ELBO,TraceEnum_ELBO, TraceGraph_ELBO\n"
   ]
  },
  {
   "cell_type": "code",
   "execution_count": 2,
   "outputs": [],
   "source": [
    "import pickle\n",
    "\n",
    "data_file = open(\"data_input_lucrezia.pkl\",'rb')\n",
    "\n",
    "data = pickle.loads(data_file.read())\n",
    "data_file.close()\n",
    "\n",
    "param_file =  open(\"pars_lucrezia.pkl\",'rb')\n",
    "\n",
    "param = pickle.loads(param_file.read())\n",
    "param_file.close()\n",
    "\n",
    "\n",
    "interface = cg.Interface()"
   ],
   "metadata": {
    "collapsed": false,
    "pycharm": {
     "name": "#%%\n",
     "is_executing": false
    }
   }
  },
  {
   "cell_type": "code",
   "execution_count": 3,
   "outputs": [],
   "source": [
    "pyro.enable_validation()"
   ],
   "metadata": {
    "collapsed": false,
    "pycharm": {
     "name": "#%%\n",
     "is_executing": false
    }
   }
  },
  {
   "cell_type": "code",
   "execution_count": 4,
   "outputs": [],
   "source": [
    "param[\"init_probs\"] = 0.6\n",
    "param[\"latent_type\"] = \"B\"\n",
    "param[\"lambda\"] = 0.\n",
    "param[\"K\"] = 2\n",
    "param[\"Temperature\"] = 10"
   ],
   "metadata": {
    "collapsed": false,
    "pycharm": {
     "name": "#%%\n",
     "is_executing": false
    }
   }
  },
  {
   "cell_type": "code",
   "execution_count": 5,
   "outputs": [],
   "source": [
    "interface.set_model(LatentCategorical)\n",
    "interface.set_optimizer(ClippedAdam)\n",
    "interface.set_loss(TraceGraph_ELBO)\n",
    "interface.initialize_model(data)\n",
    "interface.set_model_params(param)"
   ],
   "metadata": {
    "collapsed": false,
    "pycharm": {
     "name": "#%%\n",
     "is_executing": false
    }
   }
  },
  {
   "cell_type": "code",
   "execution_count": 6,
   "outputs": [
    {
     "name": "stdout",
     "text": [
      "Running LatentCategorical on 3768 cells with 20 segments for 1000 steps and 2 modalities\n",
      "\n",
      "Done!\n"
     ],
     "output_type": "stream"
    },
    {
     "name": "stderr",
     "text": [
      "ELBO: 1.229822477  : 100%|██████████| 1000/1000 [00:49<00:00, 20.07it/s]\n"
     ],
     "output_type": "stream"
    }
   ],
   "source": [
    "ll = interface.run(steps = 1000, param_optimizer = {\"lr\":0.005})\n",
    "\n"
   ],
   "metadata": {
    "collapsed": false,
    "pycharm": {
     "name": "#%%\n",
     "is_executing": false
    }
   }
  },
  {
   "cell_type": "code",
   "execution_count": 7,
   "outputs": [
    {
     "name": "stdout",
     "text": [
      "\n",
      "Computing assignment probabilities\n",
      "Computing information criteria.\n"
     ],
     "output_type": "stream"
    }
   ],
   "source": [
    "\n",
    "import numpy as np\n",
    "\n",
    "lr = interface.learned_parameters()\n",
    "ICs = interface.calculate_ICs()"
   ],
   "metadata": {
    "collapsed": false,
    "pycharm": {
     "name": "#%%\n",
     "is_executing": false
    }
   }
  },
  {
   "cell_type": "code",
   "execution_count": 8,
   "outputs": [
    {
     "data": {
      "text/plain": "{'mixture_weights_rna': array([0.5, 0.5], dtype=float32),\n 'mixture_weights_atac': array([0.6333997, 0.3666003], dtype=float32),\n 'NB_size_rna': array([149.99998, 149.99998, 149.99998, 149.99998, 149.99998, 149.99998,\n        149.99998, 149.99998, 149.99998, 149.99998], dtype=float32),\n 'segment_factor_rna': array([14.138147 ,  4.726283 ,  2.2323036,  4.872331 ,  3.2121391,\n        12.321158 , 12.533496 ,  1.9288127,  3.9793284,  2.9039512],\n       dtype=float32),\n 'NB_size_atac': array([36.52858 , 14.793733, 10.956519, 15.497696, 11.785625, 17.42074 ,\n        35.842995, 11.016844, 13.138355, 11.105012], dtype=float32),\n 'segment_factor_atac': array([14.601969 , 12.444009 , 20.759323 ,  7.207906 ,  7.0514364,\n        17.768087 , 20.184986 ,  8.464347 ,  7.9246697, 10.382282 ],\n       dtype=float32),\n 'CNV_probabilities': array([[[0.00304677, 0.00304677, 0.00304677, 0.00304677, 0.00304677,\n          0.984766  ],\n         [0.00304677, 0.00304677, 0.9847661 , 0.00304677, 0.00304677,\n          0.00304677],\n         [0.94992155, 0.01001572, 0.01001572, 0.01001572, 0.01001572,\n          0.01001572],\n         [0.94992155, 0.01001572, 0.01001572, 0.01001572, 0.01001572,\n          0.01001572],\n         [0.00304677, 0.00304677, 0.00304677, 0.00304677, 0.00304677,\n          0.984766  ],\n         [0.00304677, 0.00304677, 0.9847661 , 0.00304677, 0.00304677,\n          0.00304677],\n         [0.00304677, 0.00304677, 0.00304677, 0.00304677, 0.00304677,\n          0.984766  ],\n         [0.00304677, 0.00304677, 0.00304677, 0.00304677, 0.00304677,\n          0.984766  ],\n         [0.00304677, 0.00304677, 0.00304677, 0.00304677, 0.00304677,\n          0.984766  ],\n         [0.94992155, 0.01001572, 0.01001572, 0.01001572, 0.01001572,\n          0.01001572]],\n \n        [[0.00304677, 0.00304677, 0.00304677, 0.9847661 , 0.00304677,\n          0.00304677],\n         [0.00304677, 0.00304677, 0.00304677, 0.9847661 , 0.00304677,\n          0.00304677],\n         [0.94992155, 0.01001572, 0.01001572, 0.01001572, 0.01001572,\n          0.01001572],\n         [0.00304677, 0.00304677, 0.00304677, 0.00304677, 0.00304677,\n          0.984766  ],\n         [0.94992155, 0.01001572, 0.01001572, 0.01001572, 0.01001572,\n          0.01001572],\n         [0.00304677, 0.00304677, 0.00304677, 0.00304677, 0.9847659 ,\n          0.00304677],\n         [0.00304677, 0.00304677, 0.00304677, 0.00304677, 0.9847659 ,\n          0.00304677],\n         [0.94992155, 0.01001572, 0.01001572, 0.01001572, 0.01001572,\n          0.01001572],\n         [0.94992155, 0.01001572, 0.01001572, 0.01001572, 0.01001572,\n          0.01001572],\n         [0.00304677, 0.00304677, 0.00304677, 0.00304677, 0.9847659 ,\n          0.00304677]]], dtype=float32),\n 'cc_argmax': array([[[0., 0., 0., 0., 0., 1.],\n         [0., 0., 1., 0., 0., 0.],\n         [1., 0., 0., 0., 0., 0.],\n         [1., 0., 0., 0., 0., 0.],\n         [0., 0., 0., 0., 0., 1.],\n         [0., 0., 1., 0., 0., 0.],\n         [0., 0., 0., 0., 0., 1.],\n         [0., 0., 0., 0., 0., 1.],\n         [0., 0., 0., 0., 0., 1.],\n         [1., 0., 0., 0., 0., 0.]],\n \n        [[0., 0., 0., 1., 0., 0.],\n         [0., 0., 0., 1., 0., 0.],\n         [1., 0., 0., 0., 0., 0.],\n         [0., 0., 0., 0., 0., 1.],\n         [1., 0., 0., 0., 0., 0.],\n         [0., 0., 0., 0., 1., 0.],\n         [0., 0., 0., 0., 1., 0.],\n         [1., 0., 0., 0., 0., 0.],\n         [1., 0., 0., 0., 0., 0.],\n         [0., 0., 0., 0., 1., 0.]]], dtype=float32),\n 'CNA': array([[6, 3, 1, 1, 6, 3, 6, 6, 6, 1],\n        [4, 4, 1, 6, 1, 5, 5, 1, 1, 5]]),\n 'assignment_probs_rna': array([[9.99999996e-001, 1.00000000e+000, 1.00000000e+000, ...,\n         1.00000000e+000, 1.00000000e+000, 1.00000000e+000],\n        [4.10046285e-009, 2.39950309e-011, 1.49067076e-013, ...,\n         1.20249688e-032, 7.29297975e-253, 5.57692372e-081]]),\n 'assignment_rna': array([0, 0, 0, ..., 0, 0, 0]),\n 'assignment_probs_atac': array([[1.00000000e+00, 1.00000000e+00, 1.00000000e+00, ...,\n         1.00000000e+00, 1.00000000e+00, 1.00000000e+00],\n        [1.93559189e-19, 9.11718889e-23, 3.72417063e-47, ...,\n         5.82732113e-54, 1.89448084e-25, 2.42679258e-29]]),\n 'assignment_atac': array([0, 0, 0, ..., 0, 0, 0])}"
     },
     "metadata": {},
     "output_type": "execute_result",
     "execution_count": 8
    }
   ],
   "source": [
    "lr"
   ],
   "metadata": {
    "collapsed": false,
    "pycharm": {
     "name": "#%%\n",
     "is_executing": false
    }
   }
  },
  {
   "cell_type": "code",
   "execution_count": 5,
   "outputs": [
    {
     "traceback": [
      "\u001b[0;31m---------------------------------------------------------------------------\u001b[0m",
      "\u001b[0;31mNameError\u001b[0m                                 Traceback (most recent call last)",
      "\u001b[0;32m<ipython-input-5-06954d96c35d>\u001b[0m in \u001b[0;36m<module>\u001b[0;34m\u001b[0m\n\u001b[0;32m----> 1\u001b[0;31m \u001b[0mlk_atac\u001b[0m \u001b[0;34m=\u001b[0m \u001b[0minterface\u001b[0m\u001b[0;34m.\u001b[0m\u001b[0m_model\u001b[0m\u001b[0;34m.\u001b[0m\u001b[0mlikelihood\u001b[0m\u001b[0;34m(\u001b[0m\u001b[0mlr_t\u001b[0m\u001b[0;34m,\u001b[0m \u001b[0;34m\"atac\"\u001b[0m\u001b[0;34m)\u001b[0m\u001b[0;34m\u001b[0m\u001b[0;34m\u001b[0m\u001b[0m\n\u001b[0m\u001b[1;32m      2\u001b[0m \u001b[0;34m\u001b[0m\u001b[0m\n",
      "\u001b[0;31mNameError\u001b[0m: name 'interface' is not defined"
     ],
     "ename": "NameError",
     "evalue": "name 'interface' is not defined",
     "output_type": "error"
    }
   ],
   "source": [
    "lk_atac = interface._model.likelihood(lr_t, \"atac\")"
   ],
   "metadata": {
    "collapsed": false,
    "pycharm": {
     "name": "#%%\n",
     "is_executing": false
    }
   }
  },
  {
   "cell_type": "code",
   "execution_count": 43,
   "outputs": [],
   "source": [
    "from congas import log_sum_exp\n",
    "lk_atac = lk_atac + torch.log(lr_t[\"mixture_weights_atac\"]).reshape([2,1,1])"
   ],
   "metadata": {
    "collapsed": false,
    "pycharm": {
     "name": "#%%\n",
     "is_executing": false
    }
   }
  },
  {
   "cell_type": "code",
   "execution_count": 46,
   "outputs": [
    {
     "data": {
      "text/plain": "tensor([[[9.9939e-01, 9.9989e-01, 1.4069e-04,  ..., 6.5166e-03,\n          5.3351e-01, 1.5664e-07],\n         [9.3591e-01, 1.6383e-01, 1.8467e-02,  ..., 6.9422e-01,\n          8.2800e-01, 1.4531e-01],\n         [5.0354e-01, 5.0354e-01, 5.0354e-01,  ..., 5.0354e-01,\n          5.0354e-01, 5.0354e-01],\n         ...,\n         [5.0354e-01, 5.0354e-01, 5.0354e-01,  ..., 5.0354e-01,\n          5.0354e-01, 5.0354e-01],\n         [5.0354e-01, 5.0354e-01, 5.0354e-01,  ..., 5.0354e-01,\n          5.0354e-01, 5.0354e-01],\n         [5.0354e-01, 5.0354e-01, 5.0354e-01,  ..., 5.0354e-01,\n          5.0354e-01, 5.0354e-01]],\n\n        [[6.1418e-04, 1.1402e-04, 9.9986e-01,  ..., 9.9348e-01,\n          4.6649e-01, 1.0000e+00],\n         [6.4089e-02, 8.3617e-01, 9.8153e-01,  ..., 3.0578e-01,\n          1.7200e-01, 8.5469e-01],\n         [4.9646e-01, 4.9646e-01, 4.9646e-01,  ..., 4.9646e-01,\n          4.9646e-01, 4.9646e-01],\n         ...,\n         [4.9646e-01, 4.9646e-01, 4.9646e-01,  ..., 4.9646e-01,\n          4.9646e-01, 4.9646e-01],\n         [4.9646e-01, 4.9646e-01, 4.9646e-01,  ..., 4.9646e-01,\n          4.9646e-01, 4.9646e-01],\n         [4.9646e-01, 4.9646e-01, 4.9646e-01,  ..., 4.9646e-01,\n          4.9646e-01, 4.9646e-01]]], dtype=torch.float64)"
     },
     "metadata": {},
     "output_type": "execute_result",
     "execution_count": 46
    }
   ],
   "source": [
    "torch.exp(lk_atac - log_sum_exp(lk_atac))"
   ],
   "metadata": {
    "collapsed": false,
    "pycharm": {
     "name": "#%%\n",
     "is_executing": false
    }
   }
  },
  {
   "cell_type": "code",
   "execution_count": 31,
   "outputs": [
    {
     "traceback": [
      "\u001b[0;31m---------------------------------------------------------------------------\u001b[0m",
      "\u001b[0;31mTypeError\u001b[0m                                 Traceback (most recent call last)",
      "\u001b[0;32m<ipython-input-31-6f57e48a0ead>\u001b[0m in \u001b[0;36m<module>\u001b[0;34m\u001b[0m\n\u001b[0;32m----> 1\u001b[0;31m \u001b[0mtorch\u001b[0m\u001b[0;34m.\u001b[0m\u001b[0mexp\u001b[0m\u001b[0;34m(\u001b[0m\u001b[0mnp\u001b[0m\u001b[0;34m.\u001b[0m\u001b[0margmax\u001b[0m\u001b[0;34m(\u001b[0m\u001b[0mlr\u001b[0m\u001b[0;34m[\u001b[0m\u001b[0;34m\"assignment_probs_atac\"\u001b[0m\u001b[0;34m]\u001b[0m\u001b[0;34m,\u001b[0m \u001b[0maxis\u001b[0m\u001b[0;34m=\u001b[0m\u001b[0;36m1\u001b[0m\u001b[0;34m)\u001b[0m\u001b[0;34m)\u001b[0m\u001b[0;34m\u001b[0m\u001b[0;34m\u001b[0m\u001b[0m\n\u001b[0m\u001b[1;32m      2\u001b[0m \u001b[0;34m\u001b[0m\u001b[0m\n",
      "\u001b[0;31mTypeError\u001b[0m: exp(): argument 'input' (position 1) must be Tensor, not numpy.ndarray"
     ],
     "ename": "TypeError",
     "evalue": "exp(): argument 'input' (position 1) must be Tensor, not numpy.ndarray",
     "output_type": "error"
    }
   ],
   "source": [],
   "metadata": {
    "collapsed": false,
    "pycharm": {
     "name": "#%%\n",
     "is_executing": false
    }
   }
  },
  {
   "cell_type": "code",
   "execution_count": 19,
   "outputs": [
    {
     "data": {
      "text/plain": "dict_keys(['mixture_weights_rna', 'mixture_weights_atac', 'NB_size_rna', 'segment_factor_rna', 'NB_size_atac', 'segment_factor_atac', 'CNV_probabilities', 'CNA', 'assignment_probs_rna', 'assignment_rna', 'assignment_probs_atac', 'assignment_atac'])"
     },
     "metadata": {},
     "output_type": "execute_result",
     "execution_count": 19
    }
   ],
   "source": [],
   "metadata": {
    "collapsed": false,
    "pycharm": {
     "name": "#%%\n",
     "is_executing": false
    }
   }
  },
  {
   "cell_type": "code",
   "execution_count": null,
   "outputs": [],
   "source": [
    "\n"
   ],
   "metadata": {
    "collapsed": false,
    "pycharm": {
     "name": "#%%\n"
    }
   }
  }
 ],
 "metadata": {
  "kernelspec": {
   "display_name": "Python 3",
   "language": "python",
   "name": "python3"
  },
  "language_info": {
   "codemirror_mode": {
    "name": "ipython",
    "version": 2
   },
   "file_extension": ".py",
   "mimetype": "text/x-python",
   "name": "python",
   "nbconvert_exporter": "python",
   "pygments_lexer": "ipython2",
   "version": "2.7.6"
  },
  "pycharm": {
   "stem_cell": {
    "cell_type": "raw",
    "source": [],
    "metadata": {
     "collapsed": false
    }
   }
  }
 },
 "nbformat": 4,
 "nbformat_minor": 0
}