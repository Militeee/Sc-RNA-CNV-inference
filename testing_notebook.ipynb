{
 "cells": [
  {
   "cell_type": "code",
   "execution_count": 1,
   "metadata": {
    "collapsed": true,
    "pycharm": {
     "is_executing": false
    }
   },
   "outputs": [
    {
     "name": "stderr",
     "text": [
      "\n",
      "Bad key \"text.kerning_factor\" on line 4 in\n",
      "/Users/salvatore/miniconda3/envs/hmobster/lib/python3.7/site-packages/matplotlib/mpl-data/stylelib/_classic_test_patch.mplstyle.\n",
      "You probably need to get an updated matplotlibrc file from\n",
      "https://github.com/matplotlib/matplotlib/blob/v3.1.3/matplotlibrc.template\n",
      "or from the matplotlib source distribution\n"
     ],
     "output_type": "stream"
    }
   ],
   "source": [
    "import torch\n",
    "import pyro\n",
    "from pyro.optim import Adam, ClippedAdam\n",
    "import congas as cg\n",
    "from congas.models import LatentCategorical\n",
    "from pyro.infer import TraceMeanField_ELBO,TraceEnum_ELBO, TraceGraph_ELBO\n"
   ]
  },
  {
   "cell_type": "code",
   "execution_count": 2,
   "outputs": [],
   "source": [
    "import pickle\n",
    "\n",
    "data_file = open(\"data_input_lucrezia.pkl\",'rb')\n",
    "\n",
    "data = pickle.loads(data_file.read())\n",
    "data_file.close()\n",
    "\n",
    "param_file =  open(\"pars_lucrezia.pkl\",'rb')\n",
    "\n",
    "param = pickle.loads(param_file.read())\n",
    "param_file.close()\n",
    "\n",
    "\n",
    "interface = cg.Interface()"
   ],
   "metadata": {
    "collapsed": false,
    "pycharm": {
     "name": "#%%\n",
     "is_executing": false
    }
   }
  },
  {
   "cell_type": "code",
   "execution_count": 3,
   "outputs": [],
   "source": [
    "pyro.enable_validation()"
   ],
   "metadata": {
    "collapsed": false,
    "pycharm": {
     "name": "#%%\n",
     "is_executing": false
    }
   }
  },
  {
   "cell_type": "code",
   "execution_count": 4,
   "outputs": [],
   "source": [
    "param[\"init_probs\"] = 0.55\n",
    "param[\"latent_type\"] = \"G\"\n",
    "param[\"lambda\"] = 0.3\n",
    "param[\"K\"] = 1\n",
    "param[\"Temperature\"] = 10\n",
    "param[\"equal_sizes_sd\"] = True"
   ],
   "metadata": {
    "collapsed": false,
    "pycharm": {
     "name": "#%%\n",
     "is_executing": false
    }
   }
  },
  {
   "cell_type": "code",
   "execution_count": 5,
   "outputs": [],
   "source": [
    "interface.set_model(LatentCategorical)\n",
    "interface.set_optimizer(ClippedAdam)\n",
    "interface.set_loss(TraceGraph_ELBO)\n",
    "interface.initialize_model(data)\n",
    "interface.set_model_params(param)"
   ],
   "metadata": {
    "collapsed": false,
    "pycharm": {
     "name": "#%%\n",
     "is_executing": false
    }
   }
  },
  {
   "cell_type": "code",
   "execution_count": null,
   "outputs": [
    {
     "name": "stdout",
     "text": [
      "Running LatentCategorical on 3768 cells with 20 segments for 500 steps and 2 modalities\n"
     ],
     "output_type": "stream"
    },
    {
     "name": "stderr",
     "text": [
      "ELBO: 1.187299711  :  66%|██████▌   | 331/500 [00:09<00:04, 40.22it/s]"
     ],
     "output_type": "stream"
    }
   ],
   "source": [
    "ll = interface.run(steps = 500, param_optimizer = {\"lr\":0.01})\n",
    "\n"
   ],
   "metadata": {
    "collapsed": false,
    "pycharm": {
     "name": "#%%\n",
     "is_executing": true
    }
   }
  },
  {
   "cell_type": "code",
   "execution_count": 7,
   "outputs": [
    {
     "name": "stdout",
     "text": [
      "\n",
      "Computing assignment probabilities\n",
      "Computing information criteria.\n"
     ],
     "output_type": "stream"
    }
   ],
   "source": [
    "\n",
    "import numpy as np\n",
    "\n",
    "lr = interface.learned_parameters()\n",
    "ICs = interface.calculate_ICs()"
   ],
   "metadata": {
    "collapsed": false,
    "pycharm": {
     "name": "#%%\n",
     "is_executing": false
    }
   }
  },
  {
   "cell_type": "code",
   "execution_count": 8,
   "outputs": [
    {
     "data": {
      "text/plain": "{'mixture_weights_rna': array([0.5186116 , 0.48138836], dtype=float32),\n 'mixture_weights_atac': array([0.65374637, 0.34625363], dtype=float32),\n 'segment_factor_rna': array([22.016567 ,  9.024966 ,  5.2491646,  8.118096 ,  6.0680876,\n        14.256296 , 14.989687 ,  5.687027 ,  8.360325 ,  5.6503053],\n       dtype=float32),\n 'segment_factor_atac': array([15.827823 , 12.8608465,  4.9357977,  8.931353 ,  8.142195 ,\n        19.207829 , 23.884823 ,  9.208302 ,  9.073539 , 11.087766 ],\n       dtype=float32),\n 'NB_size_atac': array([[20.91757  , 16.93444  , 10.958259 , 15.43808  , 12.250649 ,\n         18.969833 , 29.536127 , 11.434368 , 13.0221195, 12.371601 ],\n        [20.91757  , 16.93444  , 10.958259 , 15.43808  , 12.250649 ,\n         18.969833 , 29.536127 , 11.434368 , 13.0221195, 12.371601 ]],\n       dtype=float32),\n 'NB_size_rna': array([[10.956636, 10.956636, 10.956636, 11.104024, 11.097922, 11.22638 ,\n         11.437042, 10.956636, 10.956636, 10.956636],\n        [10.956636, 10.956636, 10.956636, 11.104024, 11.097922, 11.22638 ,\n         11.437042, 10.956636, 10.956636, 10.956636]], dtype=float32),\n 'CNV_probabilities': array([[[0.00724052, 0.00689   , 0.00663183, 0.01926357, 0.6359824 ,\n          0.32399175],\n         [0.06215886, 0.0928694 , 0.8041258 , 0.01392998, 0.01425828,\n          0.01265769],\n         [0.0178799 , 0.02002388, 0.02871617, 0.14578179, 0.49407437,\n          0.29352388],\n         [0.0106749 , 0.01068645, 0.01532233, 0.188518  , 0.5305568 ,\n          0.24424148],\n         [0.00928784, 0.01009505, 0.01993325, 0.18728985, 0.47997937,\n          0.29341465],\n         [0.07777391, 0.15878074, 0.72949016, 0.01332836, 0.01004392,\n          0.01058297],\n         [0.01817486, 0.01729531, 0.02057207, 0.14786018, 0.516207  ,\n          0.2798906 ],\n         [0.00332672, 0.00354493, 0.00418984, 0.00922505, 0.06485339,\n          0.91485995],\n         [0.00702322, 0.00755575, 0.00835512, 0.01796495, 0.3671976 ,\n          0.5919033 ],\n         [0.02904918, 0.038898  , 0.13455154, 0.39177236, 0.22697836,\n          0.17875059]],\n \n        [[0.00953016, 0.01136882, 0.01941995, 0.58186466, 0.20900539,\n          0.16881096],\n         [0.0134614 , 0.01533251, 0.01350622, 0.44388664, 0.35225454,\n          0.16155867],\n         [0.01950409, 0.01938348, 0.02190301, 0.11430044, 0.534695  ,\n          0.290214  ],\n         [0.01724592, 0.0157329 , 0.01754618, 0.07328602, 0.58503485,\n          0.29115418],\n         [0.01132323, 0.01106135, 0.01127254, 0.02861124, 0.4391505 ,\n          0.49858114],\n         [0.00203002, 0.00181581, 0.00235248, 0.00652848, 0.9376391 ,\n          0.04963417],\n         [0.00678747, 0.00683352, 0.00873768, 0.08307416, 0.81764066,\n          0.07692646],\n         [0.01140858, 0.01296521, 0.02483368, 0.09962051, 0.3527701 ,\n          0.49840194],\n         [0.0082226 , 0.00878177, 0.01718053, 0.13982217, 0.43978953,\n          0.38620338],\n         [0.00419515, 0.00423288, 0.0049164 , 0.01737105, 0.89548224,\n          0.07380236]]], dtype=float32),\n 'CNA': array([[5, 3, 5, 5, 5, 3, 5, 6, 6, 4],\n        [4, 4, 5, 5, 6, 5, 5, 6, 5, 5]]),\n 'assignment_probs_rna': array([[9.31166653e-01, 9.78379993e-01, 9.79718617e-01, ...,\n         7.73850413e-07, 5.30643439e-04, 4.64111097e-03],\n        [6.88333467e-02, 2.16200067e-02, 2.02813830e-02, ...,\n         9.99999226e-01, 9.99469357e-01, 9.95358889e-01]]),\n 'assignment_rna': array([0, 0, 0, ..., 1, 1, 1]),\n 'assignment_probs_atac': array([[9.53465693e-01, 9.89189802e-01, 9.03128180e-01, ...,\n         1.08495998e-02, 1.84405906e-01, 9.09370239e-04],\n        [4.65343069e-02, 1.08101979e-02, 9.68718199e-02, ...,\n         9.89150400e-01, 8.15594094e-01, 9.99090630e-01]]),\n 'assignment_atac': array([0, 0, 0, ..., 1, 1, 1])}"
     },
     "metadata": {},
     "output_type": "execute_result",
     "execution_count": 8
    }
   ],
   "source": [
    "lr"
   ],
   "metadata": {
    "collapsed": false,
    "pycharm": {
     "name": "#%%\n",
     "is_executing": false
    }
   }
  },
  {
   "cell_type": "code",
   "execution_count": 5,
   "outputs": [
    {
     "traceback": [
      "\u001b[0;31m---------------------------------------------------------------------------\u001b[0m",
      "\u001b[0;31mNameError\u001b[0m                                 Traceback (most recent call last)",
      "\u001b[0;32m<ipython-input-5-06954d96c35d>\u001b[0m in \u001b[0;36m<module>\u001b[0;34m\u001b[0m\n\u001b[0;32m----> 1\u001b[0;31m \u001b[0mlk_atac\u001b[0m \u001b[0;34m=\u001b[0m \u001b[0minterface\u001b[0m\u001b[0;34m.\u001b[0m\u001b[0m_model\u001b[0m\u001b[0;34m.\u001b[0m\u001b[0mlikelihood\u001b[0m\u001b[0;34m(\u001b[0m\u001b[0mlr_t\u001b[0m\u001b[0;34m,\u001b[0m \u001b[0;34m\"atac\"\u001b[0m\u001b[0;34m)\u001b[0m\u001b[0;34m\u001b[0m\u001b[0;34m\u001b[0m\u001b[0m\n\u001b[0m\u001b[1;32m      2\u001b[0m \u001b[0;34m\u001b[0m\u001b[0m\n",
      "\u001b[0;31mNameError\u001b[0m: name 'interface' is not defined"
     ],
     "ename": "NameError",
     "evalue": "name 'interface' is not defined",
     "output_type": "error"
    }
   ],
   "source": [
    "lk_atac = interface._model.likelihood(lr_t, \"atac\")"
   ],
   "metadata": {
    "collapsed": false,
    "pycharm": {
     "name": "#%%\n",
     "is_executing": false
    }
   }
  },
  {
   "cell_type": "code",
   "execution_count": 43,
   "outputs": [],
   "source": [
    "from congas import log_sum_exp\n",
    "lk_atac = lk_atac + torch.log(lr_t[\"mixture_weights_atac\"]).reshape([2,1,1])"
   ],
   "metadata": {
    "collapsed": false,
    "pycharm": {
     "name": "#%%\n",
     "is_executing": false
    }
   }
  },
  {
   "cell_type": "code",
   "execution_count": 46,
   "outputs": [
    {
     "data": {
      "text/plain": "tensor([[[9.9939e-01, 9.9989e-01, 1.4069e-04,  ..., 6.5166e-03,\n          5.3351e-01, 1.5664e-07],\n         [9.3591e-01, 1.6383e-01, 1.8467e-02,  ..., 6.9422e-01,\n          8.2800e-01, 1.4531e-01],\n         [5.0354e-01, 5.0354e-01, 5.0354e-01,  ..., 5.0354e-01,\n          5.0354e-01, 5.0354e-01],\n         ...,\n         [5.0354e-01, 5.0354e-01, 5.0354e-01,  ..., 5.0354e-01,\n          5.0354e-01, 5.0354e-01],\n         [5.0354e-01, 5.0354e-01, 5.0354e-01,  ..., 5.0354e-01,\n          5.0354e-01, 5.0354e-01],\n         [5.0354e-01, 5.0354e-01, 5.0354e-01,  ..., 5.0354e-01,\n          5.0354e-01, 5.0354e-01]],\n\n        [[6.1418e-04, 1.1402e-04, 9.9986e-01,  ..., 9.9348e-01,\n          4.6649e-01, 1.0000e+00],\n         [6.4089e-02, 8.3617e-01, 9.8153e-01,  ..., 3.0578e-01,\n          1.7200e-01, 8.5469e-01],\n         [4.9646e-01, 4.9646e-01, 4.9646e-01,  ..., 4.9646e-01,\n          4.9646e-01, 4.9646e-01],\n         ...,\n         [4.9646e-01, 4.9646e-01, 4.9646e-01,  ..., 4.9646e-01,\n          4.9646e-01, 4.9646e-01],\n         [4.9646e-01, 4.9646e-01, 4.9646e-01,  ..., 4.9646e-01,\n          4.9646e-01, 4.9646e-01],\n         [4.9646e-01, 4.9646e-01, 4.9646e-01,  ..., 4.9646e-01,\n          4.9646e-01, 4.9646e-01]]], dtype=torch.float64)"
     },
     "metadata": {},
     "output_type": "execute_result",
     "execution_count": 46
    }
   ],
   "source": [
    "torch.exp(lk_atac - log_sum_exp(lk_atac))"
   ],
   "metadata": {
    "collapsed": false,
    "pycharm": {
     "name": "#%%\n",
     "is_executing": false
    }
   }
  },
  {
   "cell_type": "code",
   "execution_count": 31,
   "outputs": [
    {
     "traceback": [
      "\u001b[0;31m---------------------------------------------------------------------------\u001b[0m",
      "\u001b[0;31mTypeError\u001b[0m                                 Traceback (most recent call last)",
      "\u001b[0;32m<ipython-input-31-6f57e48a0ead>\u001b[0m in \u001b[0;36m<module>\u001b[0;34m\u001b[0m\n\u001b[0;32m----> 1\u001b[0;31m \u001b[0mtorch\u001b[0m\u001b[0;34m.\u001b[0m\u001b[0mexp\u001b[0m\u001b[0;34m(\u001b[0m\u001b[0mnp\u001b[0m\u001b[0;34m.\u001b[0m\u001b[0margmax\u001b[0m\u001b[0;34m(\u001b[0m\u001b[0mlr\u001b[0m\u001b[0;34m[\u001b[0m\u001b[0;34m\"assignment_probs_atac\"\u001b[0m\u001b[0;34m]\u001b[0m\u001b[0;34m,\u001b[0m \u001b[0maxis\u001b[0m\u001b[0;34m=\u001b[0m\u001b[0;36m1\u001b[0m\u001b[0;34m)\u001b[0m\u001b[0;34m)\u001b[0m\u001b[0;34m\u001b[0m\u001b[0;34m\u001b[0m\u001b[0m\n\u001b[0m\u001b[1;32m      2\u001b[0m \u001b[0;34m\u001b[0m\u001b[0m\n",
      "\u001b[0;31mTypeError\u001b[0m: exp(): argument 'input' (position 1) must be Tensor, not numpy.ndarray"
     ],
     "ename": "TypeError",
     "evalue": "exp(): argument 'input' (position 1) must be Tensor, not numpy.ndarray",
     "output_type": "error"
    }
   ],
   "source": [],
   "metadata": {
    "collapsed": false,
    "pycharm": {
     "name": "#%%\n",
     "is_executing": false
    }
   }
  },
  {
   "cell_type": "code",
   "execution_count": 19,
   "outputs": [
    {
     "data": {
      "text/plain": "dict_keys(['mixture_weights_rna', 'mixture_weights_atac', 'NB_size_rna', 'segment_factor_rna', 'NB_size_atac', 'segment_factor_atac', 'CNV_probabilities', 'CNA', 'assignment_probs_rna', 'assignment_rna', 'assignment_probs_atac', 'assignment_atac'])"
     },
     "metadata": {},
     "output_type": "execute_result",
     "execution_count": 19
    }
   ],
   "source": [],
   "metadata": {
    "collapsed": false,
    "pycharm": {
     "name": "#%%\n",
     "is_executing": false
    }
   }
  },
  {
   "cell_type": "code",
   "execution_count": null,
   "outputs": [],
   "source": [
    "\n"
   ],
   "metadata": {
    "collapsed": false,
    "pycharm": {
     "name": "#%%\n"
    }
   }
  }
 ],
 "metadata": {
  "kernelspec": {
   "display_name": "Python 3",
   "language": "python",
   "name": "python3"
  },
  "language_info": {
   "codemirror_mode": {
    "name": "ipython",
    "version": 2
   },
   "file_extension": ".py",
   "mimetype": "text/x-python",
   "name": "python",
   "nbconvert_exporter": "python",
   "pygments_lexer": "ipython2",
   "version": "2.7.6"
  },
  "pycharm": {
   "stem_cell": {
    "cell_type": "raw",
    "source": [],
    "metadata": {
     "collapsed": false
    }
   }
  }
 },
 "nbformat": 4,
 "nbformat_minor": 0
}