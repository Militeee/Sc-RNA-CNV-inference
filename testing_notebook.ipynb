{
 "cells": [
  {
   "cell_type": "code",
   "execution_count": 1,
   "metadata": {
    "collapsed": true,
    "pycharm": {
     "is_executing": false
    }
   },
   "outputs": [
    {
     "name": "stderr",
     "text": [
      "\n",
      "Bad key \"text.kerning_factor\" on line 4 in\n",
      "/Users/salvatore/miniconda3/envs/hmobster/lib/python3.7/site-packages/matplotlib/mpl-data/stylelib/_classic_test_patch.mplstyle.\n",
      "You probably need to get an updated matplotlibrc file from\n",
      "https://github.com/matplotlib/matplotlib/blob/v3.1.3/matplotlibrc.template\n",
      "or from the matplotlib source distribution\n"
     ],
     "output_type": "stream"
    }
   ],
   "source": [
    "import torch\n",
    "import pyro\n",
    "from pyro.optim import Adam, ClippedAdam\n",
    "import congas as cg\n",
    "from congas.models import LatentCategorical\n",
    "from pyro.infer import TraceMeanField_ELBO,TraceEnum_ELBO, TraceGraph_ELBO\n"
   ]
  },
  {
   "cell_type": "code",
   "execution_count": 2,
   "outputs": [],
   "source": [
    "import pickle\n",
    "\n",
    "data_file = open(\"data_input_lucrezia.pkl\",'rb')\n",
    "\n",
    "data = pickle.loads(data_file.read())\n",
    "data_file.close()\n",
    "\n",
    "param_file =  open(\"pars_lucrezia.pkl\",'rb')\n",
    "\n",
    "param = pickle.loads(param_file.read())\n",
    "param_file.close()\n",
    "\n",
    "\n",
    "interface = cg.Interface()"
   ],
   "metadata": {
    "collapsed": false,
    "pycharm": {
     "name": "#%%\n",
     "is_executing": false
    }
   }
  },
  {
   "cell_type": "code",
   "execution_count": 3,
   "outputs": [],
   "source": [
    "pyro.enable_validation()\n",
    "\n"
   ],
   "metadata": {
    "collapsed": false,
    "pycharm": {
     "name": "#%%\n",
     "is_executing": false
    }
   }
  },
  {
   "cell_type": "code",
   "execution_count": 4,
   "outputs": [],
   "source": [
    "param[\"init_probs\"] = 0.55\n",
    "param[\"latent_type\"] = \"G\"\n",
    "param[\"lambda\"] = 0.3\n",
    "param[\"K\"] = 1\n",
    "param[\"Temperature\"] = 1\n",
    "param[\"equal_sizes_sd\"] = True"
   ],
   "metadata": {
    "collapsed": false,
    "pycharm": {
     "name": "#%%\n",
     "is_executing": false
    }
   }
  },
  {
   "cell_type": "code",
   "execution_count": 5,
   "outputs": [],
   "source": [
    "interface.set_model(LatentCategorical)\n",
    "interface.set_optimizer(ClippedAdam)\n",
    "interface.set_loss(TraceGraph_ELBO)\n",
    "interface.initialize_model(data)\n",
    "interface.set_model_params(param)"
   ],
   "metadata": {
    "collapsed": false,
    "pycharm": {
     "name": "#%%\n",
     "is_executing": false
    }
   }
  },
  {
   "cell_type": "code",
   "execution_count": 6,
   "outputs": [
    {
     "name": "stdout",
     "text": [
      "Running LatentCategorical on 3768 cells with 20 segments for 80 steps and 2 modalities\n",
      "tensor([[3.6690, 3.4735, 3.7271, 3.3599, 3.4903, 3.3838, 3.6620, 3.4728, 3.5274,\n",
      "         3.5362]])\n",
      "tensor(-519094.7332, dtype=torch.float64)\n",
      "tensor(18884.)\n",
      "tensor(7881.2939)\n",
      "tensor([[3.4035, 3.6292, 3.6570, 3.3821, 3.3159, 3.6078, 3.6281, 3.4522, 3.3757,\n",
      "         3.8988]], grad_fn=<MulBackward0>)\n",
      "tensor(-532933.9860, dtype=torch.float64, grad_fn=<AddBackward0>)\n",
      "tensor(18884., grad_fn=<AddBackward0>)\n",
      "tensor(7564.9019, grad_fn=<AddBackward0>)\n",
      "tensor([[4.5043, 4.2099, 3.7352, 4.3224, 5.7310, 3.3941, 2.7637, 3.0060, 3.6185,\n",
      "         3.9986]], grad_fn=<MulBackward0>)\n",
      "tensor(-383284.0482, dtype=torch.float64, grad_fn=<AddBackward0>)\n",
      "tensor(18884., grad_fn=<AddBackward0>)\n",
      "tensor(8276.3594, grad_fn=<AddBackward0>)\n",
      "tensor([[3.6955, 4.8268, 3.5709, 2.4900, 1.6660, 3.0001, 4.0572, 2.6396, 5.1010,\n",
      "         2.1787]], grad_fn=<MulBackward0>)\n",
      "tensor(-516548.9966, dtype=torch.float64, grad_fn=<AddBackward0>)\n",
      "tensor(18884., grad_fn=<AddBackward0>)\n",
      "tensor(11349.5996, grad_fn=<AddBackward0>)\n",
      "tensor([[5.9570, 4.8556, 4.3868, 4.3987, 5.0032, 2.3898, 4.9917, 4.8798, 1.1818,\n",
      "         4.3523]], grad_fn=<MulBackward0>)\n",
      "tensor(-383934.8398, dtype=torch.float64, grad_fn=<AddBackward0>)\n",
      "tensor(18884., grad_fn=<AddBackward0>)\n",
      "tensor(12623.9551, grad_fn=<AddBackward0>)\n",
      "tensor([[5.9302, 4.1690, 3.2959, 2.8996, 1.0852, 2.9756, 2.7380, 2.1573, 2.3277,\n",
      "         1.0548]], grad_fn=<MulBackward0>)\n",
      "tensor(-594128.4701, dtype=torch.float64, grad_fn=<AddBackward0>)\n",
      "tensor(18884., grad_fn=<AddBackward0>)\n",
      "tensor(15067.9102, grad_fn=<AddBackward0>)\n",
      "tensor([[5.2483, 3.9802, 3.5575, 1.0000, 2.8685, 1.4070, 5.0142, 2.9788, 4.0094,\n",
      "         3.0869]], grad_fn=<MulBackward0>)\n",
      "tensor(-392478.3579, dtype=torch.float64, grad_fn=<AddBackward0>)\n",
      "tensor(18884., grad_fn=<AddBackward0>)\n",
      "tensor(13934.3340, grad_fn=<AddBackward0>)\n",
      "tensor([[3.4921, 5.7813, 2.9495, 2.0955, 1.0010, 1.8517, 5.0094, 3.4078, 1.4340,\n",
      "         5.9925]], grad_fn=<MulBackward0>)\n",
      "tensor(-419406.2248, dtype=torch.float64, grad_fn=<AddBackward0>)\n",
      "tensor(18884., grad_fn=<AddBackward0>)\n",
      "tensor(14249.9492, grad_fn=<AddBackward0>)\n",
      "tensor([[5.8897, 1.5741, 2.0057, 1.0038, 3.0010, 2.6313, 3.2513, 3.0134, 5.9898,\n",
      "         5.9505]], grad_fn=<MulBackward0>)\n",
      "tensor(-372311.6047, dtype=torch.float64, grad_fn=<AddBackward0>)\n",
      "tensor(18884., grad_fn=<AddBackward0>)\n",
      "tensor(14158.8115, grad_fn=<AddBackward0>)\n",
      "tensor([[5.9987, 2.1734, 2.0000, 1.0021, 2.9997, 3.0164, 5.9999, 2.0382, 4.3141,\n",
      "         5.9998]], grad_fn=<MulBackward0>)\n",
      "tensor(-334033.2457, dtype=torch.float64, grad_fn=<AddBackward0>)\n",
      "tensor(18884., grad_fn=<AddBackward0>)\n",
      "tensor(16081.2607, grad_fn=<AddBackward0>)\n",
      "tensor([[6.0000, 2.9714, 1.1973, 1.0113, 5.9679, 2.9550, 4.9963, 2.1437, 1.4899,\n",
      "         3.8804]], grad_fn=<MulBackward0>)\n",
      "tensor(-340322.3475, dtype=torch.float64, grad_fn=<AddBackward0>)\n",
      "tensor(18884., grad_fn=<AddBackward0>)\n",
      "tensor(17214.9102, grad_fn=<AddBackward0>)\n",
      "tensor([[5.4435, 3.0439, 5.5719, 2.9679, 5.0000, 2.0862, 5.0000, 1.0050, 3.0160,\n",
      "         1.5870]], grad_fn=<MulBackward0>)\n",
      "tensor(-254278.5408, dtype=torch.float64, grad_fn=<AddBackward0>)\n",
      "tensor(18884., grad_fn=<AddBackward0>)\n",
      "tensor(14921.4531, grad_fn=<AddBackward0>)\n",
      "tensor([[1.2214, 2.6549, 1.0067, 2.8656, 5.7677, 2.9693, 5.0031, 1.5778, 1.9999,\n",
      "         1.6976]], grad_fn=<MulBackward0>)\n",
      "tensor(-356506.3016, dtype=torch.float64, grad_fn=<AddBackward0>)\n",
      "tensor(18884., grad_fn=<AddBackward0>)\n",
      "tensor(15542.5146, grad_fn=<AddBackward0>)\n",
      "tensor([[5.9579, 3.3717, 2.7975, 1.0226, 1.2493, 2.5393, 5.0738, 1.9925, 3.0548,\n",
      "         2.9995]], grad_fn=<MulBackward0>)\n",
      "tensor(-199899.5218, dtype=torch.float64, grad_fn=<AddBackward0>)\n",
      "tensor(18884., grad_fn=<AddBackward0>)\n",
      "tensor(16102.3037, grad_fn=<AddBackward0>)\n",
      "tensor([[6.0000, 4.5243, 1.3754, 2.0006, 1.3506, 1.7125, 5.0001, 1.9997, 3.0160,\n",
      "         2.3681]], grad_fn=<MulBackward0>)\n",
      "tensor(-176719.3537, dtype=torch.float64, grad_fn=<AddBackward0>)\n",
      "tensor(18884., grad_fn=<AddBackward0>)\n",
      "tensor(16840.3086, grad_fn=<AddBackward0>)\n",
      "tensor([[5.9995, 2.9999, 1.0002, 1.9965, 2.0126, 2.9856, 5.6510, 1.0046, 1.9942,\n",
      "         1.0001]], grad_fn=<MulBackward0>)\n",
      "tensor(-236913.0610, dtype=torch.float64, grad_fn=<AddBackward0>)\n",
      "tensor(18884., grad_fn=<AddBackward0>)\n",
      "tensor(19008.4492, grad_fn=<AddBackward0>)\n",
      "tensor([[5.8560, 4.5534, 1.5781, 1.0806, 1.6280, 2.8957, 5.2301, 1.9770, 1.4906,\n",
      "         2.6610]], grad_fn=<MulBackward0>)\n",
      "tensor(-162167.5163, dtype=torch.float64, grad_fn=<AddBackward0>)\n",
      "tensor(18884., grad_fn=<AddBackward0>)\n",
      "tensor(17558.1055, grad_fn=<AddBackward0>)\n",
      "tensor([[6.0000, 5.9829, 1.0004, 1.0001, 2.9418, 1.0665, 4.0000, 1.0156, 3.3068,\n",
      "         1.6256]], grad_fn=<MulBackward0>)\n",
      "tensor(-206936.5017, dtype=torch.float64, grad_fn=<AddBackward0>)\n",
      "tensor(18884., grad_fn=<AddBackward0>)\n",
      "tensor(18481.4766, grad_fn=<AddBackward0>)\n",
      "tensor([[6.0000, 3.0088, 1.0000, 2.3211, 1.0000, 2.7148, 5.9150, 1.0001, 2.3816,\n",
      "         3.0000]], grad_fn=<MulBackward0>)\n",
      "tensor(-166223.0896, dtype=torch.float64, grad_fn=<AddBackward0>)\n",
      "tensor(18884., grad_fn=<AddBackward0>)\n",
      "tensor(18210.4141, grad_fn=<AddBackward0>)\n",
      "tensor([[6.0000, 1.0023, 1.0116, 1.7081, 1.9953, 1.0046, 5.0000, 1.0000, 2.3235,\n",
      "         2.6193]], grad_fn=<MulBackward0>)\n",
      "tensor(-209116.8679, dtype=torch.float64, grad_fn=<AddBackward0>)\n",
      "tensor(18884., grad_fn=<AddBackward0>)\n",
      "tensor(19123.4727, grad_fn=<AddBackward0>)\n",
      "tensor([[6.0000, 2.0995, 2.0184, 1.2021, 1.0048, 1.2713, 5.0978, 1.0000, 1.0000,\n",
      "         3.8892]], grad_fn=<MulBackward0>)\n",
      "tensor(-179697.1634, dtype=torch.float64, grad_fn=<AddBackward0>)\n",
      "tensor(18884., grad_fn=<AddBackward0>)\n",
      "tensor(19087.9961, grad_fn=<AddBackward0>)\n",
      "tensor([[5.0000, 3.0028, 2.5971, 2.4611, 5.0364, 2.7142, 5.6596, 1.0064, 2.2339,\n",
      "         5.9801]], grad_fn=<MulBackward0>)\n",
      "tensor(-156292.3495, dtype=torch.float64, grad_fn=<AddBackward0>)\n",
      "tensor(18884., grad_fn=<AddBackward0>)\n",
      "tensor(14976.2656, grad_fn=<AddBackward0>)\n",
      "tensor([[6.0000, 2.4742, 1.0000, 4.5182, 5.9995, 1.5299, 5.9796, 1.6058, 2.2558,\n",
      "         1.0000]], grad_fn=<MulBackward0>)\n",
      "tensor(-186315.9701, dtype=torch.float64, grad_fn=<AddBackward0>)\n",
      "tensor(18884., grad_fn=<AddBackward0>)\n",
      "tensor(18458.8789, grad_fn=<AddBackward0>)\n",
      "tensor([[6.0000, 2.5691, 1.0000, 1.5513, 1.0008, 1.0000, 4.9979, 1.0016, 1.0000,\n",
      "         1.0000]], grad_fn=<MulBackward0>)\n",
      "tensor(-181582.5405, dtype=torch.float64, grad_fn=<AddBackward0>)\n",
      "tensor(18884., grad_fn=<AddBackward0>)\n",
      "tensor(20764.6992, grad_fn=<AddBackward0>)\n",
      "tensor([[6.0000, 1.0030, 1.0704, 1.0000, 1.4233, 2.0060, 5.0000, 1.0000, 2.9997,\n",
      "         5.9336]], grad_fn=<MulBackward0>)\n",
      "tensor(-161425.7306, dtype=torch.float64, grad_fn=<AddBackward0>)\n",
      "tensor(18884., grad_fn=<AddBackward0>)\n",
      "tensor(18590.1992, grad_fn=<AddBackward0>)\n",
      "tensor([[5.9993, 1.0455, 1.0028, 1.0000, 1.2851, 1.0001, 5.4842, 1.0000, 1.9990,\n",
      "         5.9998]], grad_fn=<MulBackward0>)\n",
      "tensor(-168556.7364, dtype=torch.float64, grad_fn=<AddBackward0>)\n",
      "tensor(18884., grad_fn=<AddBackward0>)\n",
      "tensor(19914.8613, grad_fn=<AddBackward0>)\n",
      "tensor([[6.0000, 4.3399, 1.9979, 1.0000, 1.0002, 1.3446, 5.9062, 1.9143, 1.8380,\n",
      "         1.9854]], grad_fn=<MulBackward0>)\n",
      "tensor(-136788.3897, dtype=torch.float64, grad_fn=<AddBackward0>)\n",
      "tensor(18884., grad_fn=<AddBackward0>)\n",
      "tensor(18982.2949, grad_fn=<AddBackward0>)\n",
      "tensor([[6.0000, 1.0319, 2.1487, 1.0002, 4.1054, 1.0000, 6.0000, 1.0000, 1.0000,\n",
      "         1.1335]], grad_fn=<MulBackward0>)\n",
      "tensor(-177156.3236, dtype=torch.float64, grad_fn=<AddBackward0>)\n",
      "tensor(18884., grad_fn=<AddBackward0>)\n",
      "tensor(20763.6758, grad_fn=<AddBackward0>)\n",
      "tensor([[6.0000, 5.9999, 1.1566, 1.0000, 1.0000, 1.0002, 6.0000, 1.0000, 1.0002,\n",
      "         1.7442]], grad_fn=<MulBackward0>)\n",
      "tensor(-143786.6802, dtype=torch.float64, grad_fn=<AddBackward0>)\n",
      "tensor(18884., grad_fn=<AddBackward0>)\n",
      "tensor(21311.9590, grad_fn=<AddBackward0>)\n",
      "tensor([[6.0000, 2.8393, 1.0006, 1.0015, 1.0000, 1.0481, 5.5163, 1.0000, 2.0000,\n",
      "         1.0005]], grad_fn=<MulBackward0>)\n",
      "tensor(-131785.1562, dtype=torch.float64, grad_fn=<AddBackward0>)\n",
      "tensor(18884., grad_fn=<AddBackward0>)\n",
      "tensor(20721.2852, grad_fn=<AddBackward0>)\n",
      "tensor([[6.0000, 2.3273, 1.1269, 1.0015, 1.0026, 1.0074, 5.9802, 1.0000, 1.0001,\n",
      "         1.2215]], grad_fn=<MulBackward0>)\n",
      "tensor(-129908.7129, dtype=torch.float64, grad_fn=<AddBackward0>)\n",
      "tensor(18884., grad_fn=<AddBackward0>)\n",
      "tensor(21518.2031, grad_fn=<AddBackward0>)\n",
      "tensor([[6.0000, 1.0039, 1.0000, 1.0000, 1.2081, 1.0000, 5.3894, 1.0000, 2.9998,\n",
      "         2.9568]], grad_fn=<MulBackward0>)\n",
      "tensor(-129520.9454, dtype=torch.float64, grad_fn=<AddBackward0>)\n",
      "tensor(18884., grad_fn=<AddBackward0>)\n",
      "tensor(19754.7285, grad_fn=<AddBackward0>)\n",
      "tensor([[6.0000, 1.0385, 1.0001, 1.0000, 1.3053, 1.0009, 6.0000, 1.0000, 1.0001,\n",
      "         1.0000]], grad_fn=<MulBackward0>)\n",
      "tensor(-135434.4056, dtype=torch.float64, grad_fn=<AddBackward0>)\n",
      "tensor(18884., grad_fn=<AddBackward0>)\n",
      "tensor(22105.1367, grad_fn=<AddBackward0>)\n",
      "tensor([[6.0000, 1.0000, 1.0003, 1.0000, 1.9996, 1.0041, 6.0000, 1.0000, 1.0002,\n",
      "         1.0001]], grad_fn=<MulBackward0>)\n",
      "tensor(-133450.2416, dtype=torch.float64, grad_fn=<AddBackward0>)\n",
      "tensor(18884., grad_fn=<AddBackward0>)\n",
      "tensor(21857.5117, grad_fn=<AddBackward0>)\n",
      "tensor([[6.0000, 1.0052, 1.0065, 1.7866, 1.0000, 1.0004, 6.0000, 1.1175, 1.0000,\n",
      "         5.7893]], grad_fn=<MulBackward0>)\n",
      "tensor(-135022.8733, dtype=torch.float64, grad_fn=<AddBackward0>)\n",
      "tensor(18884., grad_fn=<AddBackward0>)\n",
      "tensor(20420.6055, grad_fn=<AddBackward0>)\n",
      "tensor([[6.0000, 2.9404, 1.0000, 1.0244, 1.0000, 1.0000, 5.9980, 1.0001, 1.0016,\n",
      "         1.1398]], grad_fn=<MulBackward0>)\n",
      "tensor(-116078.4297, dtype=torch.float64, grad_fn=<AddBackward0>)\n",
      "tensor(18884., grad_fn=<AddBackward0>)\n",
      "tensor(21514.4570, grad_fn=<AddBackward0>)\n",
      "tensor([[6.0000, 1.0802, 1.0000, 1.0000, 1.0000, 1.0000, 5.9995, 1.0000, 1.0000,\n",
      "         3.0000]], grad_fn=<MulBackward0>)\n",
      "tensor(-117568.7957, dtype=torch.float64, grad_fn=<AddBackward0>)\n",
      "tensor(18884., grad_fn=<AddBackward0>)\n",
      "tensor(21241.0762, grad_fn=<AddBackward0>)\n",
      "tensor([[6.0000, 1.9572, 1.0000, 1.0000, 1.0000, 1.0000, 5.0002, 1.0008, 1.0000,\n",
      "         1.0000]], grad_fn=<MulBackward0>)\n",
      "tensor(-113930.8277, dtype=torch.float64, grad_fn=<AddBackward0>)\n",
      "tensor(18884., grad_fn=<AddBackward0>)\n",
      "tensor(21295.2305, grad_fn=<AddBackward0>)\n",
      "tensor([[6.0000, 1.8108, 1.0000, 1.0000, 1.0002, 1.0000, 6.0000, 1.0000, 1.0000,\n",
      "         1.0055]], grad_fn=<MulBackward0>)\n",
      "tensor(-112177.9954, dtype=torch.float64, grad_fn=<AddBackward0>)\n",
      "tensor(18884., grad_fn=<AddBackward0>)\n",
      "tensor(21920.6582, grad_fn=<AddBackward0>)\n",
      "tensor([[6.0000, 1.0000, 1.0000, 1.1789, 1.2078, 1.0000, 5.9998, 1.0000, 1.0000,\n",
      "         1.0000]], grad_fn=<MulBackward0>)\n",
      "tensor(-114766.8076, dtype=torch.float64, grad_fn=<AddBackward0>)\n",
      "tensor(18884., grad_fn=<AddBackward0>)\n",
      "tensor(22054.3301, grad_fn=<AddBackward0>)\n",
      "tensor([[6.0000, 1.8026, 1.0001, 1.0000, 1.0002, 1.0000, 6.0000, 1.0003, 1.0462,\n",
      "         1.0002]], grad_fn=<MulBackward0>)\n",
      "tensor(-109873.0032, dtype=torch.float64, grad_fn=<AddBackward0>)\n",
      "tensor(18884., grad_fn=<AddBackward0>)\n",
      "tensor(21896.8906, grad_fn=<AddBackward0>)\n",
      "tensor([[6.0000, 1.9982, 1.0000, 1.0000, 1.0000, 1.0000, 6.0000, 1.0000, 1.0000,\n",
      "         1.0000]], grad_fn=<MulBackward0>)\n",
      "tensor(-109426.1914, dtype=torch.float64, grad_fn=<AddBackward0>)\n",
      "tensor(18884., grad_fn=<AddBackward0>)\n",
      "tensor(21860.3867, grad_fn=<AddBackward0>)\n",
      "tensor([[6.0000, 1.0000, 1.0000, 1.0000, 1.0000, 1.0000, 5.9998, 1.0000, 1.0000,\n",
      "         1.0000]], grad_fn=<MulBackward0>)\n",
      "tensor(-111725.8898, dtype=torch.float64, grad_fn=<AddBackward0>)\n",
      "tensor(18884., grad_fn=<AddBackward0>)\n",
      "tensor(22263.7539, grad_fn=<AddBackward0>)\n",
      "tensor([[6.0000, 1.9706, 1.0056, 1.0000, 1.0001, 1.0000, 6.0000, 1.0000, 1.1799,\n",
      "         1.0000]], grad_fn=<MulBackward0>)\n",
      "tensor(-107896.4027, dtype=torch.float64, grad_fn=<AddBackward0>)\n",
      "tensor(18884., grad_fn=<AddBackward0>)\n",
      "tensor(21750.7461, grad_fn=<AddBackward0>)\n",
      "tensor([[6.0000, 1.0065, 1.0000, 1.0000, 1.0364, 1.0000, 6.0000, 1.0000, 1.0000,\n",
      "         1.5125]], grad_fn=<MulBackward0>)\n",
      "tensor(-108937.0465, dtype=torch.float64, grad_fn=<AddBackward0>)\n",
      "tensor(18884., grad_fn=<AddBackward0>)\n",
      "tensor(21933.5996, grad_fn=<AddBackward0>)\n",
      "tensor([[6.0000, 1.0000, 1.0004, 1.0000, 1.0000, 1.0000, 6.0000, 1.0000, 1.0000,\n",
      "         1.2028]], grad_fn=<MulBackward0>)\n",
      "tensor(-108724.2229, dtype=torch.float64, grad_fn=<AddBackward0>)\n",
      "tensor(18884., grad_fn=<AddBackward0>)\n",
      "tensor(22136.6367, grad_fn=<AddBackward0>)\n",
      "tensor([[6.0000, 1.0005, 1.0000, 1.0000, 1.0000, 1.0000, 6.0000, 1.0000, 1.0000,\n",
      "         4.5915]], grad_fn=<MulBackward0>)\n",
      "tensor(-120146.1118, dtype=torch.float64, grad_fn=<AddBackward0>)\n",
      "tensor(18884., grad_fn=<AddBackward0>)\n",
      "tensor(20957.3027, grad_fn=<AddBackward0>)\n",
      "tensor([[6.0000, 1.0018, 1.0000, 1.0000, 1.0000, 1.0000, 6.0000, 1.0000, 1.0000,\n",
      "         1.0000]], grad_fn=<MulBackward0>)\n",
      "tensor(-108191.3099, dtype=torch.float64, grad_fn=<AddBackward0>)\n",
      "tensor(18884., grad_fn=<AddBackward0>)\n",
      "tensor(22262.9922, grad_fn=<AddBackward0>)\n",
      "tensor([[6.0000, 1.0000, 1.0000, 1.0000, 1.0000, 1.0000, 6.0000, 1.0000, 1.0000,\n",
      "         1.0000]], grad_fn=<MulBackward0>)\n",
      "tensor(-107603.5691, dtype=torch.float64, grad_fn=<AddBackward0>)\n",
      "tensor(18884., grad_fn=<AddBackward0>)\n",
      "tensor(22263.8867, grad_fn=<AddBackward0>)\n",
      "tensor([[6.0000, 1.0000, 1.0000, 1.0000, 1.0832, 1.0000, 6.0000, 1.0000, 1.0000,\n",
      "         1.0142]], grad_fn=<MulBackward0>)\n",
      "tensor(-106586.9825, dtype=torch.float64, grad_fn=<AddBackward0>)\n",
      "tensor(18884., grad_fn=<AddBackward0>)\n",
      "tensor(22215.3027, grad_fn=<AddBackward0>)\n",
      "tensor([[6.0000, 1.0000, 1.0000, 1.0000, 1.0000, 1.0000, 6.0000, 1.0000, 1.0000,\n",
      "         1.0023]], grad_fn=<MulBackward0>)\n",
      "tensor(-106898.5677, dtype=torch.float64, grad_fn=<AddBackward0>)\n",
      "tensor(18884., grad_fn=<AddBackward0>)\n",
      "tensor(22262.4102, grad_fn=<AddBackward0>)\n",
      "tensor([[6.0000, 2.9628, 1.0003, 1.0000, 1.5353, 1.0000, 6.0000, 1.0000, 2.1566,\n",
      "         1.0000]], grad_fn=<MulBackward0>)\n",
      "tensor(-113890.0723, dtype=torch.float64, grad_fn=<AddBackward0>)\n",
      "tensor(18884., grad_fn=<AddBackward0>)\n",
      "tensor(20706.4785, grad_fn=<AddBackward0>)\n",
      "tensor([[6.0000, 1.0000, 1.0000, 1.0000, 1.0000, 1.0000, 5.9938, 1.0000, 1.0000,\n",
      "         1.0000]], grad_fn=<MulBackward0>)\n",
      "tensor(-107143.4202, dtype=torch.float64, grad_fn=<AddBackward0>)\n",
      "tensor(18884., grad_fn=<AddBackward0>)\n",
      "tensor(22259.9219, grad_fn=<AddBackward0>)\n",
      "tensor([[6.0000, 1.8938, 1.0000, 1.0000, 1.0000, 1.0000, 5.9998, 1.0000, 1.0008,\n",
      "         1.0001]], grad_fn=<MulBackward0>)\n",
      "tensor(-109165.8402, dtype=torch.float64, grad_fn=<AddBackward0>)\n",
      "tensor(18884., grad_fn=<AddBackward0>)\n",
      "tensor(21894.6074, grad_fn=<AddBackward0>)\n",
      "tensor([[6.0000, 1.0000, 1.0000, 1.0000, 1.0000, 1.0000, 6.0000, 1.0000, 1.0000,\n",
      "         1.4839]], grad_fn=<MulBackward0>)\n",
      "tensor(-107366.6957, dtype=torch.float64, grad_fn=<AddBackward0>)\n",
      "tensor(18884., grad_fn=<AddBackward0>)\n",
      "tensor(21970.6836, grad_fn=<AddBackward0>)\n",
      "tensor([[6.0000, 1.0000, 1.0000, 1.0000, 1.0000, 1.0000, 6.0000, 1.0000, 1.0000,\n",
      "         1.0000]], grad_fn=<MulBackward0>)\n",
      "tensor(-107819.0624, dtype=torch.float64, grad_fn=<AddBackward0>)\n",
      "tensor(18884., grad_fn=<AddBackward0>)\n",
      "tensor(22263.9062, grad_fn=<AddBackward0>)\n",
      "tensor([[6.0000, 1.0000, 1.0000, 1.0000, 1.0000, 1.0000, 6.0000, 1.0000, 1.0000,\n",
      "         1.0000]], grad_fn=<MulBackward0>)\n",
      "tensor(-107754.5843, dtype=torch.float64, grad_fn=<AddBackward0>)\n",
      "tensor(18884., grad_fn=<AddBackward0>)\n",
      "tensor(22263.9082, grad_fn=<AddBackward0>)\n",
      "tensor([[6.0000, 1.0206, 1.0000, 1.0000, 1.0000, 1.0000, 6.0000, 1.0000, 1.0000,\n",
      "         1.7814]], grad_fn=<MulBackward0>)\n",
      "tensor(-107439.2862, dtype=torch.float64, grad_fn=<AddBackward0>)\n",
      "tensor(18884., grad_fn=<AddBackward0>)\n",
      "tensor(21797.3789, grad_fn=<AddBackward0>)\n",
      "tensor([[6., 1., 1., 1., 1., 1., 6., 1., 1., 1.]], grad_fn=<MulBackward0>)\n",
      "tensor(-107381.9222, dtype=torch.float64, grad_fn=<AddBackward0>)\n",
      "tensor(18884., grad_fn=<AddBackward0>)\n",
      "tensor(22263.9082, grad_fn=<AddBackward0>)\n",
      "tensor([[6.0000, 1.0000, 1.0000, 1.9530, 1.0000, 1.0000, 6.0000, 1.0000, 1.0000,\n",
      "         1.0000]], grad_fn=<MulBackward0>)\n",
      "tensor(-108050.7535, dtype=torch.float64, grad_fn=<AddBackward0>)\n",
      "tensor(18884., grad_fn=<AddBackward0>)\n",
      "tensor(21719.3906, grad_fn=<AddBackward0>)\n",
      "tensor([[6., 1., 1., 1., 1., 1., 6., 1., 1., 1.]], grad_fn=<MulBackward0>)\n",
      "tensor(-106969.6301, dtype=torch.float64, grad_fn=<AddBackward0>)\n",
      "tensor(18884., grad_fn=<AddBackward0>)\n",
      "tensor(22263.9082, grad_fn=<AddBackward0>)\n",
      "tensor([[6.0000, 1.0007, 1.0000, 1.0000, 1.0000, 1.0000, 6.0000, 1.0000, 1.0000,\n",
      "         1.0000]], grad_fn=<MulBackward0>)\n",
      "tensor(-106753.8184, dtype=torch.float64, grad_fn=<AddBackward0>)\n",
      "tensor(18884., grad_fn=<AddBackward0>)\n",
      "tensor(22263.5469, grad_fn=<AddBackward0>)\n",
      "tensor([[6.0000, 1.0000, 1.0000, 1.0000, 1.0000, 1.0000, 6.0000, 1.0000, 1.0000,\n",
      "         1.8510]], grad_fn=<MulBackward0>)\n",
      "tensor(-107029.2147, dtype=torch.float64, grad_fn=<AddBackward0>)\n",
      "tensor(18884., grad_fn=<AddBackward0>)\n",
      "tensor(21771.2012, grad_fn=<AddBackward0>)\n",
      "tensor([[6.0000, 1.0000, 1.0000, 1.0000, 1.0000, 1.0000, 6.0000, 1.0000, 1.0000,\n",
      "         1.0000]], grad_fn=<MulBackward0>)\n",
      "tensor(-106524.9156, dtype=torch.float64, grad_fn=<AddBackward0>)\n",
      "tensor(18884., grad_fn=<AddBackward0>)\n",
      "tensor(22263.9082, grad_fn=<AddBackward0>)\n",
      "tensor([[6.0000, 1.0000, 1.0000, 1.0000, 1.0000, 1.0000, 6.0000, 1.0002, 1.0000,\n",
      "         1.0000]], grad_fn=<MulBackward0>)\n",
      "tensor(-106463.5760, dtype=torch.float64, grad_fn=<AddBackward0>)\n",
      "tensor(18884., grad_fn=<AddBackward0>)\n",
      "tensor(22263.7832, grad_fn=<AddBackward0>)\n",
      "tensor([[6.0000, 1.0006, 1.0000, 1.0000, 1.0000, 1.0000, 6.0000, 1.0000, 1.0000,\n",
      "         1.0000]], grad_fn=<MulBackward0>)\n",
      "tensor(-106414.2489, dtype=torch.float64, grad_fn=<AddBackward0>)\n",
      "tensor(18884., grad_fn=<AddBackward0>)\n",
      "tensor(22263.6055, grad_fn=<AddBackward0>)\n",
      "tensor([[6., 1., 1., 1., 1., 1., 6., 1., 1., 1.]], grad_fn=<MulBackward0>)\n",
      "tensor(-106363.1141, dtype=torch.float64, grad_fn=<AddBackward0>)\n",
      "tensor(18884., grad_fn=<AddBackward0>)\n",
      "tensor(22263.9082, grad_fn=<AddBackward0>)\n",
      "tensor([[6.0000, 1.0000, 1.0000, 1.0000, 1.0000, 1.0000, 6.0000, 1.0000, 1.0000,\n",
      "         1.0000]], grad_fn=<MulBackward0>)\n",
      "tensor(-106308.0158, dtype=torch.float64, grad_fn=<AddBackward0>)\n",
      "tensor(18884., grad_fn=<AddBackward0>)\n",
      "tensor(22263.8945, grad_fn=<AddBackward0>)\n",
      "tensor([[6., 1., 1., 1., 1., 1., 6., 1., 1., 1.]], grad_fn=<MulBackward0>)\n",
      "tensor(-106321.9778, dtype=torch.float64, grad_fn=<AddBackward0>)\n",
      "tensor(18884., grad_fn=<AddBackward0>)\n",
      "tensor(22263.9082, grad_fn=<AddBackward0>)\n",
      "tensor([[6., 1., 1., 1., 1., 1., 6., 1., 1., 1.]], grad_fn=<MulBackward0>)\n",
      "tensor(-106438.7725, dtype=torch.float64, grad_fn=<AddBackward0>)\n",
      "tensor(18884., grad_fn=<AddBackward0>)\n",
      "tensor(22263.9082, grad_fn=<AddBackward0>)\n",
      "tensor([[6., 1., 1., 1., 1., 1., 6., 1., 1., 1.]], grad_fn=<MulBackward0>)\n",
      "tensor(-106524.2112, dtype=torch.float64, grad_fn=<AddBackward0>)\n",
      "tensor(18884., grad_fn=<AddBackward0>)\n",
      "tensor(22263.9082, grad_fn=<AddBackward0>)\n",
      "tensor([[6., 1., 1., 1., 1., 1., 6., 1., 1., 1.]], grad_fn=<MulBackward0>)\n",
      "tensor(-106639.1028, dtype=torch.float64, grad_fn=<AddBackward0>)\n",
      "tensor(18884., grad_fn=<AddBackward0>)\n",
      "tensor(22263.9082, grad_fn=<AddBackward0>)\n",
      "tensor([[6., 1., 1., 1., 1., 1., 6., 1., 1., 1.]], grad_fn=<MulBackward0>)\n",
      "tensor(-106652.3244, dtype=torch.float64, grad_fn=<AddBackward0>)\n",
      "tensor(18884., grad_fn=<AddBackward0>)\n",
      "tensor(22263.9082, grad_fn=<AddBackward0>)\n",
      "tensor([[6., 1., 1., 1., 1., 1., 6., 1., 1., 1.]], grad_fn=<MulBackward0>)\n",
      "tensor(-106712.6840, dtype=torch.float64, grad_fn=<AddBackward0>)\n",
      "tensor(18884., grad_fn=<AddBackward0>)\n",
      "tensor(22263.9082, grad_fn=<AddBackward0>)\n",
      "tensor([[6., 1., 1., 1., 1., 1., 6., 1., 1., 1.]], grad_fn=<MulBackward0>)\n",
      "tensor(-106855.1413, dtype=torch.float64, grad_fn=<AddBackward0>)\n",
      "tensor(18884., grad_fn=<AddBackward0>)\n",
      "tensor(22263.9082, grad_fn=<AddBackward0>)\n",
      "tensor([[6.0000, 1.0000, 1.0000, 1.0000, 1.0000, 1.0000, 6.0000, 1.0000, 1.0000,\n",
      "         1.0000]], grad_fn=<MulBackward0>)\n",
      "tensor(-106874.0439, dtype=torch.float64, grad_fn=<AddBackward0>)\n",
      "tensor(18884., grad_fn=<AddBackward0>)\n",
      "tensor(22263.9023, grad_fn=<AddBackward0>)\n",
      "tensor([[6.0000, 1.0000, 1.0000, 1.0000, 1.0000, 1.3180, 6.0000, 1.0000, 1.0000,\n",
      "         1.0000]], grad_fn=<MulBackward0>)\n",
      "tensor(-106687.3365, dtype=torch.float64, grad_fn=<AddBackward0>)\n",
      "tensor(18884., grad_fn=<AddBackward0>)\n",
      "tensor(22118.7461, grad_fn=<AddBackward0>)\n",
      "tensor([[6.0000, 1.0010, 1.0000, 1.0000, 1.0000, 1.0000, 6.0000, 1.0000, 1.0000,\n",
      "         1.0000]], grad_fn=<MulBackward0>)\n",
      "tensor(-106719.2446, dtype=torch.float64, grad_fn=<AddBackward0>)\n",
      "tensor(18884., grad_fn=<AddBackward0>)\n",
      "tensor(22263.4492, grad_fn=<AddBackward0>)\n",
      "tensor([[6., 1., 1., 1., 1., 1., 6., 1., 1., 1.]], grad_fn=<MulBackward0>)\n",
      "tensor(-106623.9468, dtype=torch.float64, grad_fn=<AddBackward0>)\n",
      "tensor(18884., grad_fn=<AddBackward0>)\n",
      "tensor(22263.9082, grad_fn=<AddBackward0>)\n",
      "tensor([[6., 1., 1., 1., 1., 1., 6., 1., 1., 1.]], grad_fn=<MulBackward0>)\n",
      "tensor(-106508.4402, dtype=torch.float64, grad_fn=<AddBackward0>)\n",
      "tensor(18884., grad_fn=<AddBackward0>)\n",
      "tensor(22263.9082, grad_fn=<AddBackward0>)\n",
      "tensor([[6., 1., 1., 1., 1., 1., 6., 1., 1., 1.]], grad_fn=<MulBackward0>)\n",
      "tensor(-106361.1944, dtype=torch.float64, grad_fn=<AddBackward0>)\n",
      "tensor(18884., grad_fn=<AddBackward0>)\n",
      "tensor(22263.9082, grad_fn=<AddBackward0>)\n",
      "\n",
      "Done!\n"
     ],
     "output_type": "stream"
    },
    {
     "name": "stderr",
     "text": [
      "ELBO: -295432.560509554  : 100%|██████████| 80/80 [00:03<00:00, 23.08it/s]\n"
     ],
     "output_type": "stream"
    }
   ],
   "source": [
    "ll = interface.run(steps = 80, param_optimizer = {\"lr\":0.1})\n",
    "\n"
   ],
   "metadata": {
    "collapsed": false,
    "pycharm": {
     "name": "#%%\n",
     "is_executing": false
    }
   }
  },
  {
   "cell_type": "code",
   "execution_count": 7,
   "outputs": [
    {
     "name": "stdout",
     "text": [
      "\n",
      "Computing assignment probabilities\n",
      "Computing information criteria.\n"
     ],
     "output_type": "stream"
    }
   ],
   "source": [
    "\n",
    "import numpy as np\n",
    "\n",
    "lr = interface.learned_parameters()\n",
    "ICs = interface.calculate_ICs()"
   ],
   "metadata": {
    "collapsed": false,
    "pycharm": {
     "name": "#%%\n",
     "is_executing": false
    }
   }
  },
  {
   "cell_type": "code",
   "execution_count": 8,
   "outputs": [
    {
     "data": {
      "text/plain": "{'mixture_weights_rna': array([1.], dtype=float32),\n 'mixture_weights_atac': array([1.], dtype=float32),\n 'NB_size_rna': array([10.064728 , 10.050139 , 10.072672 , 10.061152 , 10.080033 ,\n        10.060694 , 10.529044 , 10.053069 , 10.054522 , 10.0610285],\n       dtype=float32),\n 'segment_factor_rna': array([18.643011, 28.849041, 20.717102, 26.578852, 23.443935, 46.30036 ,\n        12.231085, 22.868774, 32.068203, 21.373848], dtype=float32),\n 'NB_size_atac': array([19.88664  , 10.23971  , 10.056137 , 10.20803  , 10.060608 ,\n        10.070222 , 29.04216  , 10.072636 , 10.2402525, 10.085367 ],\n       dtype=float32),\n 'segment_factor_atac': array([13.385825, 36.953133, 20.348621, 35.795895, 31.493282, 55.537548,\n        19.164227, 40.850975, 39.58086 , 44.045616], dtype=float32),\n 'CNV_probabilities': array([[[2.85151327e-04, 2.36564534e-04, 2.31437836e-04, 4.88827471e-04,\n          6.49931724e-04, 9.98108149e-01],\n         [9.95771706e-01, 1.76130445e-03, 9.82055441e-04, 1.98913724e-04,\n          6.18543418e-04, 6.67374523e-04],\n         [9.97484565e-01, 1.59789098e-03, 4.59639297e-04, 1.84299497e-04,\n          1.21872166e-04, 1.51694781e-04],\n         [9.97115970e-01, 1.85199920e-03, 3.99960467e-04, 3.98048345e-04,\n          1.13124632e-04, 1.20788827e-04],\n         [9.97174621e-01, 1.00596878e-03, 5.51834470e-04, 3.15965008e-04,\n          3.01647466e-04, 6.49917987e-04],\n         [9.97213781e-01, 1.71828095e-03, 6.65362517e-04, 2.01433271e-04,\n          9.86509767e-05, 1.02641752e-04],\n         [1.31448440e-04, 1.16772491e-04, 1.33622903e-04, 3.92120943e-04,\n          1.18443358e-03, 9.98041630e-01],\n         [9.98135328e-01, 9.92017682e-04, 4.57245769e-04, 1.50031017e-04,\n          1.11030437e-04, 1.54270485e-04],\n         [9.97528255e-01, 1.46746042e-03, 4.48351377e-04, 1.83940749e-04,\n          9.83830832e-05, 2.73696118e-04],\n         [9.95733678e-01, 1.76604243e-03, 6.74475101e-04, 3.56571923e-04,\n          2.56053871e-04, 1.21321948e-03]]], dtype=float32),\n 'CNA': array([[6, 1, 1, 1, 1, 1, 6, 1, 1, 1]]),\n 'assignment_probs_rna': array([[1., 1., 1., ..., 1., 1., 1.]]),\n 'assignment_rna': array([0, 0, 0, ..., 0, 0, 0]),\n 'assignment_probs_atac': array([[1., 1., 1., ..., 1., 1., 1.]]),\n 'assignment_atac': array([0, 0, 0, ..., 0, 0, 0])}"
     },
     "metadata": {},
     "output_type": "execute_result",
     "execution_count": 8
    }
   ],
   "source": [
    "lr"
   ],
   "metadata": {
    "collapsed": false,
    "pycharm": {
     "name": "#%%\n",
     "is_executing": false
    }
   }
  },
  {
   "cell_type": "code",
   "execution_count": 17,
   "outputs": [
    {
     "data": {
      "text/plain": "tensor([2, 4, 5, 5, 4, 4, 2, 5, 5, 5])"
     },
     "metadata": {},
     "output_type": "execute_result",
     "execution_count": 17
    }
   ],
   "source": [
    "\n",
    "data[\"pld\"]"
   ],
   "metadata": {
    "collapsed": false,
    "pycharm": {
     "name": "#%%\n",
     "is_executing": false
    }
   }
  },
  {
   "cell_type": "code",
   "execution_count": 43,
   "outputs": [],
   "source": [
    "from congas import log_sum_exp\n",
    "lk_atac = lk_atac + torch.log(lr_t[\"mixture_weights_atac\"]).reshape([2,1,1])"
   ],
   "metadata": {
    "collapsed": false,
    "pycharm": {
     "name": "#%%\n",
     "is_executing": false
    }
   }
  },
  {
   "cell_type": "code",
   "execution_count": 46,
   "outputs": [
    {
     "data": {
      "text/plain": "tensor([[[9.9939e-01, 9.9989e-01, 1.4069e-04,  ..., 6.5166e-03,\n          5.3351e-01, 1.5664e-07],\n         [9.3591e-01, 1.6383e-01, 1.8467e-02,  ..., 6.9422e-01,\n          8.2800e-01, 1.4531e-01],\n         [5.0354e-01, 5.0354e-01, 5.0354e-01,  ..., 5.0354e-01,\n          5.0354e-01, 5.0354e-01],\n         ...,\n         [5.0354e-01, 5.0354e-01, 5.0354e-01,  ..., 5.0354e-01,\n          5.0354e-01, 5.0354e-01],\n         [5.0354e-01, 5.0354e-01, 5.0354e-01,  ..., 5.0354e-01,\n          5.0354e-01, 5.0354e-01],\n         [5.0354e-01, 5.0354e-01, 5.0354e-01,  ..., 5.0354e-01,\n          5.0354e-01, 5.0354e-01]],\n\n        [[6.1418e-04, 1.1402e-04, 9.9986e-01,  ..., 9.9348e-01,\n          4.6649e-01, 1.0000e+00],\n         [6.4089e-02, 8.3617e-01, 9.8153e-01,  ..., 3.0578e-01,\n          1.7200e-01, 8.5469e-01],\n         [4.9646e-01, 4.9646e-01, 4.9646e-01,  ..., 4.9646e-01,\n          4.9646e-01, 4.9646e-01],\n         ...,\n         [4.9646e-01, 4.9646e-01, 4.9646e-01,  ..., 4.9646e-01,\n          4.9646e-01, 4.9646e-01],\n         [4.9646e-01, 4.9646e-01, 4.9646e-01,  ..., 4.9646e-01,\n          4.9646e-01, 4.9646e-01],\n         [4.9646e-01, 4.9646e-01, 4.9646e-01,  ..., 4.9646e-01,\n          4.9646e-01, 4.9646e-01]]], dtype=torch.float64)"
     },
     "metadata": {},
     "output_type": "execute_result",
     "execution_count": 46
    }
   ],
   "source": [
    "torch.exp(lk_atac - log_sum_exp(lk_atac))"
   ],
   "metadata": {
    "collapsed": false,
    "pycharm": {
     "name": "#%%\n",
     "is_executing": false
    }
   }
  },
  {
   "cell_type": "code",
   "execution_count": 7,
   "outputs": [
    {
     "data": {
      "text/plain": "torch.Size([10, 1895])"
     },
     "metadata": {},
     "output_type": "execute_result",
     "execution_count": 7
    }
   ],
   "source": [
    "data[\"data_atac\"].shape"
   ],
   "metadata": {
    "collapsed": false,
    "pycharm": {
     "name": "#%%\n",
     "is_executing": false
    }
   }
  },
  {
   "cell_type": "code",
   "execution_count": 10,
   "outputs": [
    {
     "data": {
      "text/plain": "tensor([2, 4, 5, 5, 4, 4, 2, 5, 5, 5])"
     },
     "metadata": {},
     "output_type": "execute_result",
     "execution_count": 10
    }
   ],
   "source": [
    "data[\"pld\"]"
   ],
   "metadata": {
    "collapsed": false,
    "pycharm": {
     "name": "#%%\n",
     "is_executing": false
    }
   }
  },
  {
   "cell_type": "code",
   "execution_count": null,
   "outputs": [],
   "source": [
    "\n"
   ],
   "metadata": {
    "collapsed": false,
    "pycharm": {
     "name": "#%%\n"
    }
   }
  }
 ],
 "metadata": {
  "kernelspec": {
   "display_name": "Python 3",
   "language": "python",
   "name": "python3"
  },
  "language_info": {
   "codemirror_mode": {
    "name": "ipython",
    "version": 2
   },
   "file_extension": ".py",
   "mimetype": "text/x-python",
   "name": "python",
   "nbconvert_exporter": "python",
   "pygments_lexer": "ipython2",
   "version": "2.7.6"
  },
  "pycharm": {
   "stem_cell": {
    "cell_type": "raw",
    "source": [],
    "metadata": {
     "collapsed": false
    }
   }
  }
 },
 "nbformat": 4,
 "nbformat_minor": 0
}