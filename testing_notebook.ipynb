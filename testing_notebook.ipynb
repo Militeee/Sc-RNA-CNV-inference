{
 "cells": [
  {
   "cell_type": "code",
   "execution_count": 1,
   "metadata": {
    "collapsed": true,
    "pycharm": {
     "is_executing": false
    }
   },
   "outputs": [
    {
     "name": "stderr",
     "text": [
      "\n",
      "Bad key \"text.kerning_factor\" on line 4 in\n",
      "/Users/salvatore/miniconda3/envs/hmobster/lib/python3.7/site-packages/matplotlib/mpl-data/stylelib/_classic_test_patch.mplstyle.\n",
      "You probably need to get an updated matplotlibrc file from\n",
      "https://github.com/matplotlib/matplotlib/blob/v3.1.3/matplotlibrc.template\n",
      "or from the matplotlib source distribution\n"
     ],
     "output_type": "stream"
    }
   ],
   "source": [
    "import torch\n",
    "import pyro\n",
    "from pyro.optim import Adam, ClippedAdam\n",
    "import congas as cg\n",
    "from congas.models import LatentCategorical\n",
    "from pyro.infer import TraceMeanField_ELBO,TraceEnum_ELBO, TraceGraph_ELBO\n"
   ]
  },
  {
   "cell_type": "code",
   "execution_count": 2,
   "outputs": [],
   "source": [
    "import pickle\n",
    "\n",
    "data_file = open(\"data_input_lucrezia.pkl\",'rb')\n",
    "\n",
    "data = pickle.loads(data_file.read())\n",
    "data_file.close()\n",
    "\n",
    "param_file =  open(\"pars_lucrezia.pkl\",'rb')\n",
    "\n",
    "param = pickle.loads(param_file.read())\n",
    "param_file.close()\n",
    "\n",
    "\n",
    "interface = cg.Interface()"
   ],
   "metadata": {
    "collapsed": false,
    "pycharm": {
     "name": "#%%\n",
     "is_executing": false
    }
   }
  },
  {
   "cell_type": "code",
   "execution_count": 3,
   "outputs": [],
   "source": [
    "pyro.enable_validation()\n",
    "\n"
   ],
   "metadata": {
    "collapsed": false,
    "pycharm": {
     "name": "#%%\n",
     "is_executing": false
    }
   }
  },
  {
   "cell_type": "code",
   "execution_count": 4,
   "outputs": [],
   "source": [
    "param[\"init_probs\"] = 0.55\n",
    "param[\"latent_type\"] = \"G\"\n",
    "param[\"lambda\"] = 0.3\n",
    "param[\"K\"] = 2\n",
    "param[\"Temperature\"] = 10\n",
    "param[\"equal_sizes_sd\"] = True"
   ],
   "metadata": {
    "collapsed": false,
    "pycharm": {
     "name": "#%%\n",
     "is_executing": false
    }
   }
  },
  {
   "cell_type": "code",
   "execution_count": 5,
   "outputs": [],
   "source": [
    "interface.set_model(LatentCategorical)\n",
    "interface.set_optimizer(ClippedAdam)\n",
    "interface.set_loss(TraceGraph_ELBO)\n",
    "interface.initialize_model(data)\n",
    "interface.set_model_params(param)"
   ],
   "metadata": {
    "collapsed": false,
    "pycharm": {
     "name": "#%%\n",
     "is_executing": false
    }
   }
  },
  {
   "cell_type": "code",
   "execution_count": 6,
   "outputs": [
    {
     "name": "stdout",
     "text": [
      "Running LatentCategorical on 3768 cells with 20 segments for 500 steps and 2 modalities\n",
      "\n",
      "Done!\n"
     ],
     "output_type": "stream"
    },
    {
     "name": "stderr",
     "text": [
      "ELBO: 0.437889277  : 100%|██████████| 500/500 [00:44<00:00, 11.36it/s]\n"
     ],
     "output_type": "stream"
    }
   ],
   "source": [
    "ll = interface.run(steps = 500, param_optimizer = {\"lr\":0.01})\n",
    "\n"
   ],
   "metadata": {
    "collapsed": false,
    "pycharm": {
     "name": "#%%\n",
     "is_executing": false
    }
   }
  },
  {
   "cell_type": "code",
   "execution_count": 7,
   "outputs": [
    {
     "name": "stdout",
     "text": [
      "\n",
      "Computing assignment probabilities\n",
      "Computing information criteria.\n"
     ],
     "output_type": "stream"
    }
   ],
   "source": [
    "\n",
    "import numpy as np\n",
    "\n",
    "lr = interface.learned_parameters()\n",
    "ICs = interface.calculate_ICs()"
   ],
   "metadata": {
    "collapsed": false,
    "pycharm": {
     "name": "#%%\n",
     "is_executing": false
    }
   }
  },
  {
   "cell_type": "code",
   "execution_count": 8,
   "outputs": [
    {
     "data": {
      "text/plain": "{'mixture_weights_rna': array([0.8676546 , 0.13234542], dtype=float32),\n 'mixture_weights_atac': array([0.94493675, 0.05506324], dtype=float32),\n 'NB_size_rna': array([10.956636, 10.962325, 10.960964, 11.121573, 10.995629, 11.265587,\n        11.461546, 10.960105, 10.975882, 11.055854], dtype=float32),\n 'segment_factor_rna': array([18.940664, 12.26416 , 11.357063, 13.724281,  5.301623, 21.993095,\n        12.306341, 10.318529, 14.44787 , 10.830394], dtype=float32),\n 'NB_size_atac': array([19.711262 , 13.569104 , 11.017977 , 13.281368 , 11.480141 ,\n        13.9860935, 29.878183 , 11.012781 , 11.908156 , 12.945577 ],\n       dtype=float32),\n 'segment_factor_atac': array([13.349896, 22.316778, 11.023577, 17.93919 ,  7.113736, 30.404491,\n        19.011776, 17.869358, 16.684431, 25.170658], dtype=float32),\n 'CNV_probabilities': array([[[3.6974649e-05, 3.8218008e-05, 4.4131059e-05, 8.5723426e-05,\n          3.4866057e-04, 9.9944633e-01],\n         [5.0204706e-01, 4.3529829e-01, 5.5994831e-02, 2.0522850e-03,\n          2.3041507e-03, 2.3033905e-03],\n         [4.0606976e-01, 5.5294102e-01, 2.2685530e-02, 7.1087070e-03,\n          5.5057732e-03, 5.6891846e-03],\n         [1.8663631e-01, 6.7347437e-01, 1.0761393e-01, 1.3203151e-02,\n          9.6407188e-03, 9.4314758e-03],\n         [2.0149124e-03, 1.9952457e-03, 1.9731526e-03, 3.5549144e-03,\n          6.3065328e-02, 9.2739648e-01],\n         [5.0482804e-01, 4.5092490e-01, 3.9965216e-02, 1.6014792e-03,\n          1.3421411e-03, 1.3382634e-03],\n         [4.2225853e-05, 5.0082788e-05, 5.4376589e-05, 9.9911937e-05,\n          4.2336981e-04, 9.9933016e-01],\n         [2.6804218e-01, 3.1613874e-01, 2.5310341e-01, 7.5142026e-02,\n          1.5073122e-02, 7.2500579e-02],\n         [2.2698767e-01, 3.0633402e-01, 3.3921012e-01, 4.5988746e-02,\n          1.3818535e-02, 6.7660883e-02],\n         [2.6526183e-01, 6.8923175e-01, 3.0495031e-02, 6.1900700e-03,\n          4.6674525e-03, 4.1538472e-03]],\n \n        [[1.0688015e-03, 1.2708951e-03, 1.5636153e-03, 2.2606848e-02,\n          5.4126859e-02, 9.1936296e-01],\n         [5.3653654e-02, 5.4739501e-02, 5.0736796e-02, 7.7785605e-01,\n          3.5713833e-02, 2.7300211e-02],\n         [2.2960721e-01, 2.4333625e-01, 2.5120220e-01, 1.4563717e-01,\n          7.5078525e-02, 5.5138636e-02],\n         [2.0265973e-01, 2.8887916e-01, 3.5266173e-01, 8.2107060e-02,\n          1.6944060e-02, 5.6748264e-02],\n         [1.1637771e-03, 1.2150527e-03, 1.2458446e-03, 2.3887171e-03,\n          1.1251775e-02, 9.8273474e-01],\n         [1.2914641e-01, 1.4058597e-01, 1.9144385e-01, 3.3693027e-01,\n          1.7704080e-01, 2.4852635e-02],\n         [3.2242716e-04, 3.8741363e-04, 4.1912019e-04, 1.0263320e-03,\n          4.0234506e-02, 9.5761019e-01],\n         [2.2636974e-01, 3.0130121e-01, 2.9039940e-01, 7.3294155e-02,\n          5.5301648e-02, 5.3333908e-02],\n         [1.2968856e-01, 2.2863522e-01, 4.7226691e-01, 7.4367896e-02,\n          4.6141148e-02, 4.8900314e-02],\n         [1.7387825e-01, 2.1146691e-01, 2.7062750e-01, 1.5713774e-01,\n          1.6339819e-01, 2.3491388e-02]]], dtype=float32),\n 'CNA': array([[6, 1, 2, 2, 6, 1, 6, 2, 3, 2],\n        [6, 4, 3, 3, 6, 4, 6, 2, 3, 3]]),\n 'assignment_probs_rna': array([[9.99974213e-01, 9.99999332e-01, 9.99970101e-01, ...,\n         4.57669595e-36, 1.15673548e-24, 1.75822090e-20],\n        [2.57866165e-05, 6.68219386e-07, 2.98993388e-05, ...,\n         1.00000000e+00, 1.00000000e+00, 1.00000000e+00]]),\n 'assignment_rna': array([0, 0, 0, ..., 1, 1, 1]),\n 'assignment_probs_atac': array([[6.74207853e-01, 9.99132521e-01, 9.99995651e-01, ...,\n         6.78303392e-10, 7.06704835e-07, 7.70032042e-09],\n        [3.25792147e-01, 8.67478864e-04, 4.34924181e-06, ...,\n         9.99999999e-01, 9.99999293e-01, 9.99999992e-01]]),\n 'assignment_atac': array([0, 0, 0, ..., 1, 1, 1])}"
     },
     "metadata": {},
     "output_type": "execute_result",
     "execution_count": 8
    }
   ],
   "source": [
    "lr"
   ],
   "metadata": {
    "collapsed": false,
    "pycharm": {
     "name": "#%%\n",
     "is_executing": false
    }
   }
  },
  {
   "cell_type": "code",
   "execution_count": 5,
   "outputs": [
    {
     "traceback": [
      "\u001b[0;31m---------------------------------------------------------------------------\u001b[0m",
      "\u001b[0;31mNameError\u001b[0m                                 Traceback (most recent call last)",
      "\u001b[0;32m<ipython-input-5-06954d96c35d>\u001b[0m in \u001b[0;36m<module>\u001b[0;34m\u001b[0m\n\u001b[0;32m----> 1\u001b[0;31m \u001b[0mlk_atac\u001b[0m \u001b[0;34m=\u001b[0m \u001b[0minterface\u001b[0m\u001b[0;34m.\u001b[0m\u001b[0m_model\u001b[0m\u001b[0;34m.\u001b[0m\u001b[0mlikelihood\u001b[0m\u001b[0;34m(\u001b[0m\u001b[0mlr_t\u001b[0m\u001b[0;34m,\u001b[0m \u001b[0;34m\"atac\"\u001b[0m\u001b[0;34m)\u001b[0m\u001b[0;34m\u001b[0m\u001b[0;34m\u001b[0m\u001b[0m\n\u001b[0m\u001b[1;32m      2\u001b[0m \u001b[0;34m\u001b[0m\u001b[0m\n",
      "\u001b[0;31mNameError\u001b[0m: name 'interface' is not defined"
     ],
     "ename": "NameError",
     "evalue": "name 'interface' is not defined",
     "output_type": "error"
    }
   ],
   "source": [
    "lk_atac = interface._model.likelihood(lr_t, \"atac\")"
   ],
   "metadata": {
    "collapsed": false,
    "pycharm": {
     "name": "#%%\n",
     "is_executing": false
    }
   }
  },
  {
   "cell_type": "code",
   "execution_count": 43,
   "outputs": [],
   "source": [
    "from congas import log_sum_exp\n",
    "lk_atac = lk_atac + torch.log(lr_t[\"mixture_weights_atac\"]).reshape([2,1,1])"
   ],
   "metadata": {
    "collapsed": false,
    "pycharm": {
     "name": "#%%\n",
     "is_executing": false
    }
   }
  },
  {
   "cell_type": "code",
   "execution_count": 46,
   "outputs": [
    {
     "data": {
      "text/plain": "tensor([[[9.9939e-01, 9.9989e-01, 1.4069e-04,  ..., 6.5166e-03,\n          5.3351e-01, 1.5664e-07],\n         [9.3591e-01, 1.6383e-01, 1.8467e-02,  ..., 6.9422e-01,\n          8.2800e-01, 1.4531e-01],\n         [5.0354e-01, 5.0354e-01, 5.0354e-01,  ..., 5.0354e-01,\n          5.0354e-01, 5.0354e-01],\n         ...,\n         [5.0354e-01, 5.0354e-01, 5.0354e-01,  ..., 5.0354e-01,\n          5.0354e-01, 5.0354e-01],\n         [5.0354e-01, 5.0354e-01, 5.0354e-01,  ..., 5.0354e-01,\n          5.0354e-01, 5.0354e-01],\n         [5.0354e-01, 5.0354e-01, 5.0354e-01,  ..., 5.0354e-01,\n          5.0354e-01, 5.0354e-01]],\n\n        [[6.1418e-04, 1.1402e-04, 9.9986e-01,  ..., 9.9348e-01,\n          4.6649e-01, 1.0000e+00],\n         [6.4089e-02, 8.3617e-01, 9.8153e-01,  ..., 3.0578e-01,\n          1.7200e-01, 8.5469e-01],\n         [4.9646e-01, 4.9646e-01, 4.9646e-01,  ..., 4.9646e-01,\n          4.9646e-01, 4.9646e-01],\n         ...,\n         [4.9646e-01, 4.9646e-01, 4.9646e-01,  ..., 4.9646e-01,\n          4.9646e-01, 4.9646e-01],\n         [4.9646e-01, 4.9646e-01, 4.9646e-01,  ..., 4.9646e-01,\n          4.9646e-01, 4.9646e-01],\n         [4.9646e-01, 4.9646e-01, 4.9646e-01,  ..., 4.9646e-01,\n          4.9646e-01, 4.9646e-01]]], dtype=torch.float64)"
     },
     "metadata": {},
     "output_type": "execute_result",
     "execution_count": 46
    }
   ],
   "source": [
    "torch.exp(lk_atac - log_sum_exp(lk_atac))"
   ],
   "metadata": {
    "collapsed": false,
    "pycharm": {
     "name": "#%%\n",
     "is_executing": false
    }
   }
  },
  {
   "cell_type": "code",
   "execution_count": 7,
   "outputs": [
    {
     "data": {
      "text/plain": "torch.Size([10, 1895])"
     },
     "metadata": {},
     "output_type": "execute_result",
     "execution_count": 7
    }
   ],
   "source": [
    "data[\"data_atac\"].shape"
   ],
   "metadata": {
    "collapsed": false,
    "pycharm": {
     "name": "#%%\n",
     "is_executing": false
    }
   }
  },
  {
   "cell_type": "code",
   "execution_count": 19,
   "outputs": [
    {
     "data": {
      "text/plain": "dict_keys(['mixture_weights_rna', 'mixture_weights_atac', 'NB_size_rna', 'segment_factor_rna', 'NB_size_atac', 'segment_factor_atac', 'CNV_probabilities', 'CNA', 'assignment_probs_rna', 'assignment_rna', 'assignment_probs_atac', 'assignment_atac'])"
     },
     "metadata": {},
     "output_type": "execute_result",
     "execution_count": 19
    }
   ],
   "source": [],
   "metadata": {
    "collapsed": false,
    "pycharm": {
     "name": "#%%\n",
     "is_executing": false
    }
   }
  },
  {
   "cell_type": "code",
   "execution_count": null,
   "outputs": [],
   "source": [
    "\n"
   ],
   "metadata": {
    "collapsed": false,
    "pycharm": {
     "name": "#%%\n"
    }
   }
  }
 ],
 "metadata": {
  "kernelspec": {
   "display_name": "Python 3",
   "language": "python",
   "name": "python3"
  },
  "language_info": {
   "codemirror_mode": {
    "name": "ipython",
    "version": 2
   },
   "file_extension": ".py",
   "mimetype": "text/x-python",
   "name": "python",
   "nbconvert_exporter": "python",
   "pygments_lexer": "ipython2",
   "version": "2.7.6"
  },
  "pycharm": {
   "stem_cell": {
    "cell_type": "raw",
    "source": [],
    "metadata": {
     "collapsed": false
    }
   }
  }
 },
 "nbformat": 4,
 "nbformat_minor": 0
}