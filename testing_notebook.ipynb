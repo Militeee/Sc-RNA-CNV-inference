{
 "cells": [
  {
   "cell_type": "code",
   "execution_count": 1,
   "metadata": {
    "collapsed": true
   },
   "outputs": [],
   "source": [
    "import torch\n",
    "import pyro\n",
    "from pyro.optim import Adam, ClippedAdam\n",
    "import congas as cg\n",
    "from congas.models import LatentCategorical\n",
    "from pyro.infer import TraceMeanField_ELBO,TraceEnum_ELBO, TraceGraph_ELBO\n"
   ]
  },
  {
   "cell_type": "code",
   "execution_count": 2,
   "outputs": [],
   "source": [
    "import pickle\n",
    "\n",
    "data_file = open(\"data.pkl\",'rb')\n",
    "\n",
    "data = pickle.loads(data_file.read())\n",
    "data_file.close()\n",
    "\n",
    "param_file =  open(\"parameters.pkl\",'rb')\n",
    "\n",
    "param = pickle.loads(param_file.read())\n",
    "param_file.close()\n",
    "\n",
    "\n",
    "interface = cg.Interface()"
   ],
   "metadata": {
    "collapsed": false,
    "pycharm": {
     "name": "#%%\n"
    }
   }
  },
  {
   "cell_type": "code",
   "execution_count": 3,
   "outputs": [
    {
     "data": {
      "text/plain": "{'probs': tensor([0.2000, 0.6000, 0.0500, 0.0250, 0.0250]),\n 'init_probs': 0.6,\n 'purity': 0.48,\n 'theta_shape_atac': tensor([12.4963, 16.6187,  4.3866,  9.7522]),\n 'theta_rate_atac': tensor([0.0135, 0.0067, 0.0125, 0.0125]),\n 'nb_size_init_atac': tensor([150., 150., 150., 150.]),\n 'likelihood_atac': 'NB',\n 'a': 0.1,\n 'b': 100.0,\n 'lambda': 0.0,\n 'hidden_dim': 5,\n 'binom_prior_limits': [40.0, 1000.0],\n 'equal_sizes_sd': True,\n 'Temperature': 20.0,\n 'K': [1, 2, 3],\n 'latent_type': 'G'}"
     },
     "execution_count": 3,
     "metadata": {},
     "output_type": "execute_result"
    }
   ],
   "source": [
    "param\n"
   ],
   "metadata": {
    "collapsed": false,
    "pycharm": {
     "name": "#%%\n"
    }
   }
  },
  {
   "cell_type": "code",
   "execution_count": 4,
   "outputs": [],
   "source": [
    "param[\"binom_prior_limits\"] = torch.tensor([10,1000])\n",
    "param[\"K\"] = 2\n",
    "param[\"likelihood_atac\"] = \"NB\"\n",
    "param[\"temperature\"] = 20\n",
    "param[\"lambda\"] = 0\n"
   ],
   "metadata": {
    "collapsed": false,
    "pycharm": {
     "name": "#%%\n"
    }
   }
  },
  {
   "cell_type": "code",
   "execution_count": 5,
   "outputs": [],
   "source": [
    "interface.set_model(LatentCategorical)\n",
    "interface.set_optimizer(ClippedAdam)\n",
    "interface.set_loss(TraceGraph_ELBO)\n",
    "interface.initialize_model(data)\n",
    "interface.set_model_params(param)\n"
   ],
   "metadata": {
    "collapsed": false,
    "pycharm": {
     "name": "#%%\n"
    }
   }
  },
  {
   "cell_type": "code",
   "execution_count": 6,
   "outputs": [
    {
     "name": "stdout",
     "output_type": "stream",
     "text": [
      "Running LatentCategorical on 2534 cells with 4 segments for 2000 steps and 1 modalities\n"
     ]
    },
    {
     "name": "stderr",
     "output_type": "stream",
     "text": [
      "ELBO: 6.022332605  : 100%|██████████| 2000/2000 [00:12<00:00, 156.42it/s]"
     ]
    },
    {
     "name": "stdout",
     "output_type": "stream",
     "text": [
      "\n",
      "Done!\n"
     ]
    },
    {
     "name": "stderr",
     "output_type": "stream",
     "text": [
      "\n"
     ]
    }
   ],
   "source": [
    "ll = interface.run(steps = 2000, param_optimizer = {\"lr\":0.01},  )\n",
    "\n"
   ],
   "metadata": {
    "collapsed": false,
    "pycharm": {
     "name": "#%%\n"
    }
   }
  },
  {
   "cell_type": "code",
   "execution_count": 7,
   "outputs": [
    {
     "name": "stdout",
     "output_type": "stream",
     "text": [
      "\n",
      "Computing assignment probabilities\n",
      "Computing information criteria.\n"
     ]
    }
   ],
   "source": [
    "\n",
    "import numpy as np\n",
    "\n",
    "\n",
    "lr = interface.learned_parameters()\n",
    "ICs = interface.calculate_ICs()"
   ],
   "metadata": {
    "collapsed": false,
    "pycharm": {
     "name": "#%%\n"
    }
   }
  },
  {
   "cell_type": "code",
   "execution_count": 8,
   "outputs": [
    {
     "data": {
      "text/plain": "{'mixture_weights_atac': array([0.4439953 , 0.55600476], dtype=float32),\n 'NB_size_atac': array([17.54844 , 16.8888  , 15.924793, 35.700268], dtype=float32),\n 'segment_factor_atac': array([ 535.528  , 1230.6976 ,  359.27823,  836.60657], dtype=float32),\n 'CNV_probabilities': array([[[3.31589510e-03, 9.93974388e-01, 1.97842950e-03, 3.55056749e-04,\n          3.76298442e-04],\n         [1.30827630e-05, 9.99980927e-01, 2.91865240e-06, 1.33876279e-06,\n          1.86226157e-06],\n         [2.83223599e-01, 7.16249526e-01, 1.91705170e-04, 1.74035260e-04,\n          1.61211778e-04],\n         [3.75419222e-06, 9.99995470e-01, 2.07485314e-07, 5.20058393e-07,\n          6.05457728e-08]],\n \n        [[6.10584438e-01, 3.88696402e-01, 3.28973372e-04, 2.03493764e-04,\n          1.86731035e-04],\n         [1.14857512e-05, 9.99988198e-01, 1.75076991e-07, 1.08175477e-07,\n          1.11891119e-07],\n         [5.71394985e-08, 1.84721586e-07, 3.35060477e-08, 9.99895453e-01,\n          1.04309045e-04],\n         [5.11651626e-03, 5.12878112e-02, 8.07300583e-02, 8.31767142e-01,\n          3.10984049e-02]]], dtype=float32),\n 'CNA': array([[2, 2, 2, 2],\n        [1, 2, 4, 4]]),\n 'assignment_probs_atac': array([[4.85741122e-04, 2.58865300e-03, 2.89241484e-07, ...,\n         9.99999962e-01, 1.00000000e+00, 9.99969546e-01],\n        [9.99514259e-01, 9.97411347e-01, 9.99999711e-01, ...,\n         3.83488166e-08, 6.24685834e-11, 3.04539859e-05]]),\n 'assignment_atac': array([1, 1, 1, ..., 0, 0, 0])}"
     },
     "execution_count": 8,
     "metadata": {},
     "output_type": "execute_result"
    }
   ],
   "source": [
    "lr"
   ],
   "metadata": {
    "collapsed": false,
    "pycharm": {
     "name": "#%%\n"
    }
   }
  },
  {
   "cell_type": "code",
   "execution_count": 24,
   "outputs": [
    {
     "data": {
      "text/plain": "tensor(335.6740, dtype=torch.float64)"
     },
     "execution_count": 24,
     "metadata": {},
     "output_type": "execute_result"
    }
   ],
   "source": [
    "\n",
    "data[\"data_atac\"][0,:].mean()"
   ],
   "metadata": {
    "collapsed": false,
    "pycharm": {
     "name": "#%%\n"
    }
   }
  },
  {
   "cell_type": "code",
   "execution_count": 43,
   "outputs": [],
   "source": [
    "from congas import log_sum_exp\n",
    "lk_atac = lk_atac + torch.log(lr_t[\"mixture_weights_atac\"]).reshape([2,1,1])"
   ],
   "metadata": {
    "collapsed": false,
    "pycharm": {
     "name": "#%%\n"
    }
   }
  },
  {
   "cell_type": "code",
   "execution_count": 46,
   "outputs": [
    {
     "data": {
      "text/plain": "tensor([[[9.9939e-01, 9.9989e-01, 1.4069e-04,  ..., 6.5166e-03,\n          5.3351e-01, 1.5664e-07],\n         [9.3591e-01, 1.6383e-01, 1.8467e-02,  ..., 6.9422e-01,\n          8.2800e-01, 1.4531e-01],\n         [5.0354e-01, 5.0354e-01, 5.0354e-01,  ..., 5.0354e-01,\n          5.0354e-01, 5.0354e-01],\n         ...,\n         [5.0354e-01, 5.0354e-01, 5.0354e-01,  ..., 5.0354e-01,\n          5.0354e-01, 5.0354e-01],\n         [5.0354e-01, 5.0354e-01, 5.0354e-01,  ..., 5.0354e-01,\n          5.0354e-01, 5.0354e-01],\n         [5.0354e-01, 5.0354e-01, 5.0354e-01,  ..., 5.0354e-01,\n          5.0354e-01, 5.0354e-01]],\n\n        [[6.1418e-04, 1.1402e-04, 9.9986e-01,  ..., 9.9348e-01,\n          4.6649e-01, 1.0000e+00],\n         [6.4089e-02, 8.3617e-01, 9.8153e-01,  ..., 3.0578e-01,\n          1.7200e-01, 8.5469e-01],\n         [4.9646e-01, 4.9646e-01, 4.9646e-01,  ..., 4.9646e-01,\n          4.9646e-01, 4.9646e-01],\n         ...,\n         [4.9646e-01, 4.9646e-01, 4.9646e-01,  ..., 4.9646e-01,\n          4.9646e-01, 4.9646e-01],\n         [4.9646e-01, 4.9646e-01, 4.9646e-01,  ..., 4.9646e-01,\n          4.9646e-01, 4.9646e-01],\n         [4.9646e-01, 4.9646e-01, 4.9646e-01,  ..., 4.9646e-01,\n          4.9646e-01, 4.9646e-01]]], dtype=torch.float64)"
     },
     "metadata": {},
     "output_type": "execute_result",
     "execution_count": 46
    }
   ],
   "source": [
    "torch.exp(lk_atac - log_sum_exp(lk_atac))"
   ],
   "metadata": {
    "collapsed": false,
    "pycharm": {
     "name": "#%%\n"
    }
   }
  },
  {
   "cell_type": "code",
   "execution_count": 10,
   "outputs": [
    {
     "data": {
      "text/plain": "1209"
     },
     "execution_count": 10,
     "metadata": {},
     "output_type": "execute_result"
    }
   ],
   "source": [
    "np.sum(lr[\"assignment_atac\"] == 0)"
   ],
   "metadata": {
    "collapsed": false,
    "pycharm": {
     "name": "#%%\n"
    }
   }
  },
  {
   "cell_type": "code",
   "execution_count": 11,
   "outputs": [
    {
     "data": {
      "text/plain": "{'data_atac': tensor([[ 235.,  406.,  390.,  ...,  384.,  668.,  366.],\n         [ 804.,  726., 1380.,  ..., 1089., 1721., 1406.],\n         [ 378.,  334.,  773.,  ...,  217.,  253.,  152.],\n         [ 966., 1204., 1999.,  ...,  569.,  718.,  851.]], dtype=torch.float64),\n 'norm_factor_atac': tensor([0.3387, 0.3357, 0.6044,  ..., 0.3929, 0.6118, 0.3815],\n        dtype=torch.float64),\n 'pld': tensor([3., 3., 1., 1.], dtype=torch.float64),\n 'segments': 2}"
     },
     "execution_count": 11,
     "metadata": {},
     "output_type": "execute_result"
    }
   ],
   "source": [
    "data"
   ],
   "metadata": {
    "collapsed": false,
    "pycharm": {
     "name": "#%%\n"
    }
   }
  },
  {
   "cell_type": "code",
   "execution_count": null,
   "outputs": [],
   "source": [
    "\n"
   ],
   "metadata": {
    "collapsed": false,
    "pycharm": {
     "name": "#%%\n"
    }
   }
  }
 ],
 "metadata": {
  "kernelspec": {
   "display_name": "Python 3",
   "language": "python",
   "name": "python3"
  },
  "language_info": {
   "codemirror_mode": {
    "name": "ipython",
    "version": 2
   },
   "file_extension": ".py",
   "mimetype": "text/x-python",
   "name": "python",
   "nbconvert_exporter": "python",
   "pygments_lexer": "ipython2",
   "version": "2.7.6"
  }
 },
 "nbformat": 4,
 "nbformat_minor": 0
}