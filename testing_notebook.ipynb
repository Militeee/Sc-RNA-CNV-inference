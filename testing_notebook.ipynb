{
 "cells": [
  {
   "cell_type": "code",
   "execution_count": 1,
   "metadata": {
    "collapsed": true,
    "pycharm": {
     "is_executing": false
    }
   },
   "outputs": [],
   "source": [
    "import torch\n",
    "import pyro\n",
    "from pyro.optim import Adam\n",
    "import congas as cg\n",
    "from congas.models import MixtureGaussian,MixtureGaussianEXP, MixtureGaussianOld, MixtureGaussianNorm\n",
    "from pyro.infer import TraceEnum_ELBO"
   ]
  },
  {
   "cell_type": "code",
   "execution_count": 2,
   "outputs": [
    {
     "name": "stdout",
     "text": [
      "Running MixtureGaussian on 1000 cells wiht 32 segments for 300 steps\n",
      "\n",
      "Done!\n"
     ],
     "output_type": "stream"
    },
    {
     "name": "stderr",
     "text": [
      "ELBO: 107.713757813  : 100%|██████████| 300/300 [00:24<00:00, 12.25it/s]\n"
     ],
     "output_type": "stream"
    }
   ],
   "source": [
    "data = cg.simulation_data\n",
    "\n",
    "interface = cg.Interface()\n",
    "\n",
    "interface.set_model(MixtureGaussian)\n",
    "interface.set_optimizer(Adam)\n",
    "interface.set_loss(TraceEnum_ELBO)\n",
    "interface.initialize_model(data)\n",
    "interface.set_model_params({'K': 2})\n",
    "\n",
    "ll = interface.run(steps = 300, MAP = True)\n",
    "\n"
   ],
   "metadata": {
    "collapsed": false,
    "pycharm": {
     "name": "#%%\n",
     "is_executing": false
    }
   }
  },
  {
   "cell_type": "code",
   "execution_count": 3,
   "outputs": [
    {
     "name": "stdout",
     "text": [
      "Computing assignment probabilities\n",
      "\n",
      "{'assignment_probs': tensor([[0.0019, 0.9981],\n",
      "        [0.0015, 0.9985],\n",
      "        [0.0027, 0.9973],\n",
      "        ...,\n",
      "        [0.9981, 0.0019],\n",
      "        [0.9987, 0.0013],\n",
      "        [0.9974, 0.0026]])}\n"
     ],
     "output_type": "stream"
    },
    {
     "name": "stderr",
     "text": [
      "ELBO: 202.429609375  : 100%|██████████| 300/300 [00:14<00:00, 20.89it/s]\n"
     ],
     "output_type": "stream"
    },
    {
     "data": {
      "text/plain": "{'mixture_weights': array([0.4133705, 0.5866295], dtype=float32),\n 'norm_sd': array([ 9.99915  , 10.755326 , 10.144959 , 10.085713 , 10.472381 ,\n        10.027761 , 11.515413 , 10.909803 , 10.03494  , 11.34445  ,\n         8.052656 , 11.350493 ,  9.956735 , 11.291375 , 10.718868 ,\n        10.637475 , 10.145115 ,  8.85526  , 11.028054 , 11.838612 ,\n        10.72856  , 11.393176 , 10.696656 , 10.395516 , 10.522488 ,\n        10.5176735, 10.862463 , 10.117081 ,  9.180473 , 10.937747 ,\n         4.9436045,  8.926367 ], dtype=float32),\n 'cnv_probs': array([[ 62.1318  ,  90.41891 ,  23.745356,  68.07655 ,  26.837784,\n          60.699936, 148.12602 ,  24.268858,  64.0998  , 122.8919  ,\n          39.92808 ,  37.747894,  63.357742,  48.37617 ,  86.28299 ,\n          30.035044,  70.074326,  47.24273 ,  38.57591 , 212.31839 ,\n          32.05124 ,  54.47403 ,  86.52446 ,  26.331814,  27.539413,\n          79.178635,  79.36504 ,  69.43564 ,  49.94267 ,  35.91231 ,\n          18.984068,  46.80602 ],\n        [ 36.054802,  50.72625 ,  37.43727 ,  38.53966 ,  43.336792,\n          35.685337,  86.33482 ,  49.478664,  35.419342,  70.919586,\n          22.242403,  74.54706 ,  35.589996,  81.810616,  49.33255 ,\n          48.712128,  38.02465 ,  26.598993,  63.03342 , 113.69361 ,\n          51.003395,  92.272675,  45.97945 ,  41.949013,  45.095856,\n          44.489754,  47.76841 ,  38.20502 ,  25.804873,  59.022984,\n          10.220529,  26.882994]], dtype=float32),\n 'assignment_probs': tensor([[0.0019, 0.9981],\n         [0.0015, 0.9985],\n         [0.0027, 0.9973],\n         ...,\n         [0.9981, 0.0019],\n         [0.9987, 0.0013],\n         [0.9974, 0.0026]])}"
     },
     "metadata": {},
     "output_type": "execute_result",
     "execution_count": 3
    }
   ],
   "source": [
    "import numpy as np\n",
    "\n",
    "lr = interface.learned_parameters(posterior=True, steps=300)\n",
    "lr\n"
   ],
   "metadata": {
    "collapsed": false,
    "pycharm": {
     "name": "#%%\n",
     "is_executing": false
    }
   }
  }
 ],
 "metadata": {
  "kernelspec": {
   "display_name": "Python 3",
   "language": "python",
   "name": "python3"
  },
  "language_info": {
   "codemirror_mode": {
    "name": "ipython",
    "version": 2
   },
   "file_extension": ".py",
   "mimetype": "text/x-python",
   "name": "python",
   "nbconvert_exporter": "python",
   "pygments_lexer": "ipython2",
   "version": "2.7.6"
  },
  "pycharm": {
   "stem_cell": {
    "cell_type": "raw",
    "source": [],
    "metadata": {
     "collapsed": false
    }
   }
  }
 },
 "nbformat": 4,
 "nbformat_minor": 0
}